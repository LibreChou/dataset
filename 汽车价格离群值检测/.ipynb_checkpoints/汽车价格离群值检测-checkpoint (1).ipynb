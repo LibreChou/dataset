{
 "cells": [
  {
   "cell_type": "markdown",
   "metadata": {},
   "source": [
    "# Vast 汽车价格离群值检测"
   ]
  },
  {
   "cell_type": "markdown",
   "metadata": {},
   "source": [
    "离群点（Outliers），简单而言就是离其余数据点非常远的数据点。它们会极大的影响后续的分析结果，甚至产生有误导的分析结果。\n",
    "\n",
    "[Vast](http://www.vast.com/)向3个行业的出版商、市场和搜索引擎提供数据，这三个行业包括汽车、房地产和休闲、住宿和旅游。Vast的系统通过白标签集成，并在一些非常受欢迎的消费应用程序（Southwest GetAway Finder，AOL Travel，Yahoo! Travel，Car and Driver等等）中提供搜索结果、产品建议和特别优惠。\n",
    "\n",
    "Vast的汽车数据是由成千上万的二手汽车卖家提供，并且向市场公布。由于这些数据是由用户手工录入，因此容易受到人为失误的影响，比如用户在错误的字段中提交值，或者无意中发生错误或胖手指值。 对于8岁的车辆，里程表读数为100,000英里。 直觉告诉我们，100,000美元是大多数小型车的不寻常的价格。 一个上市的42000美元是合理的，比如2013年的凯迪拉克ATS豪华版，而对另一个（例如1997年的别克莱斯布雷）来说，这可能是意料之外的。"
   ]
  },
  {
   "cell_type": "markdown",
   "metadata": {},
   "source": [
    "![2013cadillac](./img/2013cadillac.png)\n",
    "![2013cadillac](./img/1997buick.png)\n",
    "<div align=\"center\">图1： 2013年的凯迪拉克ATS豪华版与1997年的别克莱斯布雷汽车信息</div>\n",
    "<br>\n",
    "检测离群值有利于纠正错误，向用户提供卓越和合适的产品。"
   ]
  },
  {
   "cell_type": "markdown",
   "metadata": {},
   "source": [
    "## 1. 数据集描述"
   ]
  },
  {
   "cell_type": "markdown",
   "metadata": {},
   "source": [
    "数据集包括训练数据集和测试数据集：\n",
    "\n",
    "+ `accord_sedan_testing.csv`\n",
    "+ `accord_sedan_training.csv`\n",
    "\n",
    "![hondaaccord](./img/2016-honda-accord-sdn_100522223_l.jpg)\n",
    "测试数据集`accord_sedan_training.csv`包含了417辆本田雅阁轿车的信息列表。各个特征如下：\n",
    "\n",
    "|特征名称|含义|类型|取值示例|\n",
    "|:-----:|:------:|:----:|:----:|\n",
    "|$price$|价格|int|14995|\n",
    "|$mileage$|已行驶英里数|int|67697|\n",
    "|$year$|上市年份|int|2006|\n",
    "|$trim$|档次|str|ex;：高配款且带皮革内饰<br>ex：高配款<br>lx：低配款|\n",
    "|$engine$|引擎缸数|int|4 Cyl：4缸<br>6 Cyl：6缸|\n",
    "|$transmission$|换挡方式|str|Manual：手动挡<br>Automatic：自动挡|"
   ]
  },
  {
   "cell_type": "markdown",
   "metadata": {},
   "source": [
    "## 3. 导入数据集并切分"
   ]
  },
  {
   "cell_type": "code",
   "execution_count": 1,
   "metadata": {
    "scrolled": false
   },
   "outputs": [
    {
     "name": "stderr",
     "output_type": "stream",
     "text": [
      "//anaconda/envs/py27/lib/python2.7/site-packages/IPython/html.py:14: ShimWarning: The `IPython.html` package has been deprecated since IPython 4.0. You should import from `notebook` instead. `IPython.html.widgets` has moved to `ipywidgets`.\n",
      "  \"`IPython.html.widgets` has moved to `ipywidgets`.\", ShimWarning)\n"
     ]
    }
   ],
   "source": [
    "import pandas as pd # 读取数据表并进行基于DataFrame结构的操作\n",
    "import numpy as np\n",
    "import seaborn as sns\n",
    "from matplotlib import pyplot as plt\n",
    "from sklearn import preprocessing\n",
    "from sklearn.feature_extraction import DictVectorizer\n",
    "from sklearn.linear_model import LinearRegression\n",
    "%matplotlib inline\n",
    "\n",
    "import warnings\n",
    "warnings.filterwarnings('ignore') # 不显示warning信息\n",
    "pd.options.display.width = 900 # Dataframe 显示宽度设置"
   ]
  },
  {
   "cell_type": "markdown",
   "metadata": {},
   "source": [
    "#### 画图配色方案\n",
    "+ 绿色 #5dbe80\n",
    "+ 蓝色 #2d9ed8\n",
    "+ 紫色 #a290c4\n",
    "+ 橙色 #efab40\n",
    "+ 红色 #EE5150"
   ]
  },
  {
   "cell_type": "code",
   "execution_count": 2,
   "metadata": {
    "scrolled": true
   },
   "outputs": [
    {
     "name": "stdout",
     "output_type": "stream",
     "text": [
      "The shape is (417, 6)\n"
     ]
    },
    {
     "data": {
      "text/html": [
       "<div>\n",
       "<table border=\"1\" class=\"dataframe\">\n",
       "  <thead>\n",
       "    <tr style=\"text-align: right;\">\n",
       "      <th></th>\n",
       "      <th>price</th>\n",
       "      <th>mileage</th>\n",
       "      <th>year</th>\n",
       "      <th>trim</th>\n",
       "      <th>engine</th>\n",
       "      <th>transmission</th>\n",
       "    </tr>\n",
       "  </thead>\n",
       "  <tbody>\n",
       "    <tr>\n",
       "      <th>0</th>\n",
       "      <td>14995</td>\n",
       "      <td>67697</td>\n",
       "      <td>2006</td>\n",
       "      <td>ex</td>\n",
       "      <td>4 Cyl</td>\n",
       "      <td>Manual</td>\n",
       "    </tr>\n",
       "    <tr>\n",
       "      <th>1</th>\n",
       "      <td>11988</td>\n",
       "      <td>73738</td>\n",
       "      <td>2006</td>\n",
       "      <td>ex</td>\n",
       "      <td>4 Cyl</td>\n",
       "      <td>Manual</td>\n",
       "    </tr>\n",
       "    <tr>\n",
       "      <th>2</th>\n",
       "      <td>11999</td>\n",
       "      <td>80313</td>\n",
       "      <td>2006</td>\n",
       "      <td>lx</td>\n",
       "      <td>4 Cyl</td>\n",
       "      <td>Automatic</td>\n",
       "    </tr>\n",
       "    <tr>\n",
       "      <th>3</th>\n",
       "      <td>12995</td>\n",
       "      <td>86096</td>\n",
       "      <td>2006</td>\n",
       "      <td>lx</td>\n",
       "      <td>4 Cyl</td>\n",
       "      <td>Automatic</td>\n",
       "    </tr>\n",
       "    <tr>\n",
       "      <th>4</th>\n",
       "      <td>11333</td>\n",
       "      <td>79607</td>\n",
       "      <td>2006</td>\n",
       "      <td>lx</td>\n",
       "      <td>4 Cyl</td>\n",
       "      <td>Automatic</td>\n",
       "    </tr>\n",
       "    <tr>\n",
       "      <th>5</th>\n",
       "      <td>10067</td>\n",
       "      <td>96966</td>\n",
       "      <td>2006</td>\n",
       "      <td>lx</td>\n",
       "      <td>4 Cyl</td>\n",
       "      <td>Automatic</td>\n",
       "    </tr>\n",
       "    <tr>\n",
       "      <th>6</th>\n",
       "      <td>8999</td>\n",
       "      <td>126150</td>\n",
       "      <td>2006</td>\n",
       "      <td>lx</td>\n",
       "      <td>4 Cyl</td>\n",
       "      <td>Automatic</td>\n",
       "    </tr>\n",
       "  </tbody>\n",
       "</table>\n",
       "</div>"
      ],
      "text/plain": [
       "   price  mileage  year trim engine transmission\n",
       "0  14995    67697  2006   ex  4 Cyl       Manual\n",
       "1  11988    73738  2006   ex  4 Cyl       Manual\n",
       "2  11999    80313  2006   lx  4 Cyl    Automatic\n",
       "3  12995    86096  2006   lx  4 Cyl    Automatic\n",
       "4  11333    79607  2006   lx  4 Cyl    Automatic\n",
       "5  10067    96966  2006   lx  4 Cyl    Automatic\n",
       "6   8999   126150  2006   lx  4 Cyl    Automatic"
      ]
     },
     "execution_count": 2,
     "metadata": {},
     "output_type": "execute_result"
    }
   ],
   "source": [
    "train = pd.read_csv('accord_sedan_training.csv')\n",
    "print 'The shape is',train.shape\n",
    "train.head(7)"
   ]
  },
  {
   "cell_type": "code",
   "execution_count": 3,
   "metadata": {},
   "outputs": [],
   "source": [
    "# 将 train 划分为 x 和 y\n",
    "train_x = train.drop('price',1)\n",
    "train_y = train['price']"
   ]
  },
  {
   "cell_type": "markdown",
   "metadata": {},
   "source": [
    "## 4. 特征提取并构建线性回归模型\n",
    "使用`sklearn.feature_extraction`中的`DictVectorizer`将名义型变量实现One-Hot编码，得到一个10维向量空间，包括：\n",
    "\n",
    "+ engine=4 Cyl\n",
    "+ engine=6 Cyl\n",
    "+ mileage\n",
    "+ price\n",
    "+ transmission=Automatic\n",
    "+ transmission=Manual\n",
    "+ trim=ex\n",
    "+ trim=exl\n",
    "+ trim=lx\n",
    "+ year\n",
    "\n",
    "注意：在异常值检测时需要利用到$~price~$特征。"
   ]
  },
  {
   "cell_type": "code",
   "execution_count": 4,
   "metadata": {},
   "outputs": [
    {
     "name": "stdout",
     "output_type": "stream",
     "text": [
      "Dimension is 10\n"
     ]
    },
    {
     "data": {
      "text/plain": [
       "['engine=4 Cyl',\n",
       " 'engine=6 Cyl',\n",
       " 'mileage',\n",
       " 'price',\n",
       " 'transmission=Automatic',\n",
       " 'transmission=Manual',\n",
       " 'trim=ex',\n",
       " 'trim=exl',\n",
       " 'trim=lx',\n",
       " 'year']"
      ]
     },
     "execution_count": 4,
     "metadata": {},
     "output_type": "execute_result"
    }
   ],
   "source": [
    "# One-Hot编码方法一：使用`DictVectorizer`实现\n",
    "dv = DictVectorizer()\n",
    "dv.fit(train.T.to_dict().values()) # one-hot 编码\n",
    "print 'Dimension is',len(dv.feature_names_)\n",
    "dv.feature_names_"
   ]
  },
  {
   "cell_type": "markdown",
   "metadata": {},
   "source": [
    "也可以使用`pandas`的`get_dummies`函数实现one-hot编码："
   ]
  },
  {
   "cell_type": "code",
   "execution_count": 5,
   "metadata": {
    "scrolled": true
   },
   "outputs": [
    {
     "data": {
      "text/html": [
       "<div>\n",
       "<table border=\"1\" class=\"dataframe\">\n",
       "  <thead>\n",
       "    <tr style=\"text-align: right;\">\n",
       "      <th></th>\n",
       "      <th>mileage</th>\n",
       "      <th>year</th>\n",
       "      <th>engine_4 Cyl</th>\n",
       "      <th>engine_6 Cyl</th>\n",
       "      <th>trim_ex</th>\n",
       "      <th>trim_exl</th>\n",
       "      <th>trim_lx</th>\n",
       "      <th>transmission_Automatic</th>\n",
       "      <th>transmission_Manual</th>\n",
       "    </tr>\n",
       "  </thead>\n",
       "  <tbody>\n",
       "    <tr>\n",
       "      <th>0</th>\n",
       "      <td>67697</td>\n",
       "      <td>2006</td>\n",
       "      <td>1</td>\n",
       "      <td>0</td>\n",
       "      <td>1</td>\n",
       "      <td>0</td>\n",
       "      <td>0</td>\n",
       "      <td>0</td>\n",
       "      <td>1</td>\n",
       "    </tr>\n",
       "    <tr>\n",
       "      <th>1</th>\n",
       "      <td>73738</td>\n",
       "      <td>2006</td>\n",
       "      <td>1</td>\n",
       "      <td>0</td>\n",
       "      <td>1</td>\n",
       "      <td>0</td>\n",
       "      <td>0</td>\n",
       "      <td>0</td>\n",
       "      <td>1</td>\n",
       "    </tr>\n",
       "    <tr>\n",
       "      <th>2</th>\n",
       "      <td>80313</td>\n",
       "      <td>2006</td>\n",
       "      <td>1</td>\n",
       "      <td>0</td>\n",
       "      <td>0</td>\n",
       "      <td>0</td>\n",
       "      <td>1</td>\n",
       "      <td>1</td>\n",
       "      <td>0</td>\n",
       "    </tr>\n",
       "    <tr>\n",
       "      <th>3</th>\n",
       "      <td>86096</td>\n",
       "      <td>2006</td>\n",
       "      <td>1</td>\n",
       "      <td>0</td>\n",
       "      <td>0</td>\n",
       "      <td>0</td>\n",
       "      <td>1</td>\n",
       "      <td>1</td>\n",
       "      <td>0</td>\n",
       "    </tr>\n",
       "    <tr>\n",
       "      <th>4</th>\n",
       "      <td>79607</td>\n",
       "      <td>2006</td>\n",
       "      <td>1</td>\n",
       "      <td>0</td>\n",
       "      <td>0</td>\n",
       "      <td>0</td>\n",
       "      <td>1</td>\n",
       "      <td>1</td>\n",
       "      <td>0</td>\n",
       "    </tr>\n",
       "  </tbody>\n",
       "</table>\n",
       "</div>"
      ],
      "text/plain": [
       "   mileage  year  engine_4 Cyl  engine_6 Cyl  trim_ex  trim_exl  trim_lx  transmission_Automatic  transmission_Manual\n",
       "0    67697  2006             1             0        1         0        0                       0                    1\n",
       "1    73738  2006             1             0        1         0        0                       0                    1\n",
       "2    80313  2006             1             0        0         0        1                       1                    0\n",
       "3    86096  2006             1             0        0         0        1                       1                    0\n",
       "4    79607  2006             1             0        0         0        1                       1                    0"
      ]
     },
     "execution_count": 5,
     "metadata": {},
     "output_type": "execute_result"
    }
   ],
   "source": [
    "# One-Hot编码方法二：使用`pandas`的`get_dummies`函数实现\n",
    "nomial_var = ['engine','trim','transmission']\n",
    "multi_dummies = [] # 存储三个 DataFrame\n",
    "train_x_dummies = train_x[['mileage','year']]\n",
    "for col in nomial_var:\n",
    "    dummies = pd.get_dummies(train_x[col], prefix = col)\n",
    "    train_x_dummies = pd.concat([train_x_dummies,dummies],axis=1) # 将编码结果与非编码特征水平拼接起来\n",
    "train_x_dummies.head()"
   ]
  },
  {
   "cell_type": "code",
   "execution_count": 6,
   "metadata": {
    "scrolled": false
   },
   "outputs": [
    {
     "data": {
      "text/plain": [
       "'12084.24 + (-337.20 engine=4 Cyl) + (337.20 engine=6 Cyl) + (-0.05 mileage) + (0.00 price) + (420.68 transmission=Automatic) + (-420.67 transmission=Manual) + (208.93 trim=ex) + (674.60 trim=exl) + (-883.53 trim=lx) + (2.23 year)'"
      ]
     },
     "execution_count": 6,
     "metadata": {},
     "output_type": "execute_result"
    }
   ],
   "source": [
    "# 构建线性回归模型\n",
    "train_x_array = dv.transform(train_x.T.to_dict().values())\n",
    "# train_x_array = train_x_dummies.values # 也可以使用get_dummies得到的结果\n",
    "\n",
    "LR = LinearRegression().fit(train_x_array,train_y)\n",
    "' + '.join([format(LR.intercept_, '0.2f')] \n",
    "           + map(lambda (f,c): \"(%0.2f %s)\" % (c, f), \n",
    "               zip(dv.feature_names_, LR.coef_)))"
   ]
  },
  {
   "cell_type": "markdown",
   "metadata": {},
   "source": [
    "即拟合得到的模型为：\n",
    "\n",
    "$price≈12084.24 − 337.20(engine=4Cyl) + 337.20(engine=6Cyl) - 0.05(mileage) + 420.68(transmission=Automatic) - 420.67(transmission=Manual) + 208.93(trim=ex) + 674.60(trim=exl) - 883.53(trim=lx) + 2.23(year)$"
   ]
  },
  {
   "cell_type": "markdown",
   "metadata": {},
   "source": [
    "## 5. 离群值检测\n",
    "由测试集拟合得到的模型，我们可以预测测试集中的价格，计算每个样本的绝对误差，并得出"
   ]
  },
  {
   "cell_type": "code",
   "execution_count": 7,
   "metadata": {},
   "outputs": [
    {
     "data": {
      "text/plain": [
       "array([ 1391.71504177,  2200.19252869,  2626.93955514,  3857.45997116])"
      ]
     },
     "execution_count": 7,
     "metadata": {},
     "output_type": "execute_result"
    }
   ],
   "source": [
    "pred_y = LR.predict(dv.transform(train.T.to_dict().values()))\n",
    "train_error = abs(pred_y - train_y) # 计算绝对误差\n",
    "np.percentile(train_error,[75,90,95,99]) # 计算绝对误差数据的百分位数"
   ]
  },
  {
   "cell_type": "markdown",
   "metadata": {},
   "source": [
    "我们也可以画出 train_error 的盒图来观察离群值。\n",
    "![boxplot](./img/boxplot.png)"
   ]
  },
  {
   "cell_type": "code",
   "execution_count": 8,
   "metadata": {
    "scrolled": false
   },
   "outputs": [
    {
     "data": {
      "text/plain": [
       "<matplotlib.axes._subplots.AxesSubplot at 0x107f5d950>"
      ]
     },
     "execution_count": 8,
     "metadata": {},
     "output_type": "execute_result"
    },
    {
     "data": {
      "image/png": "[encoded data removed]",
      "text/plain": [
       "<matplotlib.figure.Figure at 0x107f5dfd0>"
      ]
     },
     "metadata": {},
     "output_type": "display_data"
    }
   ],
   "source": [
    "sns.boxplot(x = train_error,palette = \"Set2\")"
   ]
  },
  {
   "cell_type": "markdown",
   "metadata": {},
   "source": [
    "可以看到测试集中存在部分离群值。"
   ]
  },
  {
   "cell_type": "markdown",
   "metadata": {},
   "source": [
    "在本案例中，我们设定置信水平为0.95，即认为超过95%百分位数的train_error为离群值。下面我们在二维空间中画出正常值（蓝色）与离群值（红色）："
   ]
  },
  {
   "cell_type": "code",
   "execution_count": 9,
   "metadata": {
    "scrolled": false
   },
   "outputs": [
    {
     "data": {
      "image/png": "[encoded data removed]",
      "text/plain": [
       "<matplotlib.figure.Figure at 0x10814e650>"
      ]
     },
     "metadata": {},
     "output_type": "display_data"
    }
   ],
   "source": [
    "outlierIndex = train_error >= np.percentile(train_error, 95)\n",
    "inlierIndex = train_error < np.percentile(train_error, 95)\n",
    "\n",
    "# 得到train_error最大的index值，即极端离群值\n",
    "most_severe = train_error[outlierIndex].idxmax() \n",
    "\n",
    "fig = plt.figure(figsize=(7,7))\n",
    "indexes = [inlierIndex, outlierIndex, most_severe]\n",
    "color = ['#2d9ed8','#EE5150','#a290c4']\n",
    "label = ['normal points', 'outliers', 'extreme outliers']\n",
    "for i,c,l in zip(indexes,color,label):\n",
    "    plt.scatter(train['mileage'][i], \n",
    "                train_y[i], \n",
    "                c=c,\n",
    "                marker='^',\n",
    "                label=l)\n",
    "plt.legend(loc = 'upper right',\n",
    "           frameon=True,\n",
    "           edgecolor='k',\n",
    "           framealpha=1,\n",
    "           fontsize = 12)\n",
    "plt.xlabel('$mileage$')\n",
    "plt.ylabel('$price$')\n",
    "plt.grid('on')\n",
    "sns.set_style('dark')"
   ]
  },
  {
   "cell_type": "markdown",
   "metadata": {},
   "source": [
    "我们来看看离群值的数量有多少？"
   ]
  },
  {
   "cell_type": "code",
   "execution_count": 10,
   "metadata": {
    "scrolled": true
   },
   "outputs": [
    {
     "data": {
      "text/plain": [
       "False    396\n",
       "True      21\n",
       "Name: price, dtype: int64"
      ]
     },
     "execution_count": 10,
     "metadata": {},
     "output_type": "execute_result"
    }
   ],
   "source": [
    "outlierIndex.value_counts()"
   ]
  },
  {
   "cell_type": "markdown",
   "metadata": {},
   "source": [
    "上图结果也符合我们的经验理解，二手车的行驶公里数越高，它卖出去的价格就应该越低，所以对于处在右上和左下区域的点可能是一些离群值（对于同一款车而言）。比如左下区域的点，一些行驶里程数低，价格也比较低的车辆，有可能该车辆是事故车辆或者有损坏，而右上区域的离群值有可能是真实的离群值，相对来讲不容易有合理的解释，可能是输入失误或者胖手指输入造成。\n",
    "\n",
    "本案例中的数据只有400多条，如果数据再多一些，则检测的结果会更加可靠。"
   ]
  },
  {
   "cell_type": "markdown",
   "metadata": {},
   "source": [
    "## 6. 标准化对离群值检测的影响"
   ]
  },
  {
   "cell_type": "markdown",
   "metadata": {},
   "source": [
    "通常情况下，为了避免不同尺度的影响。我们在进行线性回归模型拟合之前，需要对各个特征进行标准化。常见的标准化有z-score标准化、0-1标准化等，这里我们选择z-score标准化来观察标准化对离群值检测的影响。"
   ]
  },
  {
   "cell_type": "code",
   "execution_count": 12,
   "metadata": {
    "scrolled": true
   },
   "outputs": [
    {
     "ename": "NameError",
     "evalue": "name 'LR_score' is not defined",
     "output_type": "error",
     "traceback": [
      "\u001b[0;31m---------------------------------------------------------------------------\u001b[0m",
      "\u001b[0;31mNameError\u001b[0m                                 Traceback (most recent call last)",
      "\u001b[0;32m<ipython-input-12-f0395cb1470f>\u001b[0m in \u001b[0;36m<module>\u001b[0;34m()\u001b[0m\n\u001b[1;32m      8\u001b[0m ' + '.join([format(LR_zscore.intercept_, '0.2f')] \n\u001b[1;32m      9\u001b[0m            + map(lambda (f,c): \"(%0.2f %s)\" % (c, f), \n\u001b[0;32m---> 10\u001b[0;31m                zip(dv.feature_names_, LR_score.coef_)))\n\u001b[0m",
      "\u001b[0;31mNameError\u001b[0m: name 'LR_score' is not defined"
     ]
    }
   ],
   "source": [
    "# 利用 preprocessing.scale函数将特征标准化\n",
    "columns = train_x_dummies.columns\n",
    "train_x_zscore = pd.DataFrame(preprocessing.scale(train_x_dummies),columns = columns)\n",
    "#train_y_zscore = pd.DataFrame(preprocessing.scale(pd.DataFrame(train_y,columns=['price'])),columns = ['price'])\n",
    "\n",
    "# 线性模型拟合\n",
    "LR_zscore = LinearRegression().fit(train_x_zscore.values,train_y)\n",
    "' + '.join([format(LR_zscore.intercept_, '0.2f')] \n",
    "           + map(lambda (f,c): \"(%0.2f %s)\" % (c, f), \n",
    "               zip(dv.feature_names_, LR_zscore.coef_)))"
   ]
  },
  {
   "cell_type": "code",
   "execution_count": null,
   "metadata": {},
   "outputs": [],
   "source": [
    "pred_y_zscore = LR_zscore.predict(train_x_zscore)\n",
    "train_error_zscore = abs(pred_y_zscore - train_y) # 计算绝对误差\n",
    "np.percentile(train_error_zscore,[75,90,95,99]) # 计算绝对误差数据的百分位数"
   ]
  },
  {
   "cell_type": "code",
   "execution_count": null,
   "metadata": {},
   "outputs": [],
   "source": [
    "outlierIndex_zscore = train_error_zscore >= np.percentile(train_error_zscore, 95)\n",
    "inlierIndex_zscore = train_error_zscore < np.percentile(train_error_zscore, 95)\n",
    "diff = (outlierIndex_zscore != outlierIndex)  # diff 用于存储标准化前后的离群值检测结果不同的index\n",
    "diff.value_counts()"
   ]
  },
  {
   "cell_type": "code",
   "execution_count": null,
   "metadata": {
    "scrolled": false
   },
   "outputs": [],
   "source": [
    "# 画出标准化前后的检测差异点\n",
    "fig = plt.figure(figsize=(7,7))\n",
    "\n",
    "# rep_inlierIndex为标准化前后都为正常值的index\n",
    "rep_inlierIndex = (inlierIndex == inlierIndex_zscore)\n",
    "\n",
    "indexes = [rep_inlierIndex, outlierIndex, outlierIndex_zscore]\n",
    "color = ['#2d9ed8','#EE5150','#a290c4']\n",
    "markers = ['^','<','>']\n",
    "label = ['inliers', 'outliers before z-score', 'outliers after z-score']\n",
    "for i,c,m,l in zip(indexes,color,markers,label):\n",
    "    plt.scatter(train['mileage'][i], \n",
    "                train_y[i], \n",
    "                c=c,\n",
    "                marker=m,\n",
    "                label=l)\n",
    "plt.xlabel('$mileage$')\n",
    "plt.ylabel('$price$')\n",
    "plt.grid('on')\n",
    "plt.legend(loc = 'upper right',\n",
    "           frameon=True,\n",
    "           edgecolor='k',\n",
    "           framealpha=1,\n",
    "           fontsize = 12)\n",
    "sns.set_style('dark')\n"
   ]
  },
  {
   "cell_type": "markdown",
   "metadata": {},
   "source": [
    "从结果可以看到，绝大多数样本的检测结果一致。有两个样本存在差别，其中一个样本在标准化之前会被检测为离群值，另外一个样本在标准化之后会被检测为离群值。虽然在本例中，标准化前后的检测效果差异不是很大，我们仍然建议在线性建模之前对特征进行标准化。"
   ]
  },
  {
   "cell_type": "markdown",
   "metadata": {},
   "source": [
    "## 7. 测试集的验证"
   ]
  },
  {
   "cell_type": "markdown",
   "metadata": {},
   "source": [
    "我们先以$mileage$为横坐标，$price$为纵坐标画出训练集和测试集的所有样本点。"
   ]
  },
  {
   "cell_type": "code",
   "execution_count": null,
   "metadata": {},
   "outputs": [],
   "source": [
    "test = pd.read_csv('accord_sedan_testing.csv')\n",
    "\n",
    "datasets = [train,test]\n",
    "color = ['#2d9ed8','#EE5150']\n",
    "label = ['training set', 'testing set']\n",
    "fig = plt.figure(figsize=(7,7))\n",
    "for i,c,l in zip(range(len(datasets)),color,label):\n",
    "    plt.scatter(datasets[i]['mileage'], \n",
    "                datasets[i]['price'], \n",
    "                c=c,\n",
    "                marker='^',\n",
    "                label=l)\n",
    "plt.xlabel('$mileage$')\n",
    "plt.ylabel('$price$')\n",
    "plt.grid('on')\n",
    "plt.legend(loc = 'upper right',\n",
    "           frameon=True,\n",
    "           edgecolor='k',\n",
    "           framealpha=1,\n",
    "           fontsize = 12)\n",
    "sns.set_style('dark')"
   ]
  },
  {
   "cell_type": "markdown",
   "metadata": {},
   "source": [
    "我们来看看利用在训练集上训练得到的模型在测试集上的泛化效果："
   ]
  },
  {
   "cell_type": "code",
   "execution_count": null,
   "metadata": {
    "scrolled": false
   },
   "outputs": [],
   "source": [
    "pred_y_test = LR.predict(dv.transform(test.T.to_dict().values()))\n",
    "test_error = abs(pred_y_test - test['price'])\n",
    "\n",
    "# 使用分布图观察测试集误差\n",
    "fig = plt.figure(figsize=(7,7))\n",
    "sns.distplot(test_error,kde=False)\n",
    "plt.xlabel('$test\\_error$')\n",
    "plt.ylabel('$count$')\n",
    "plt.grid('on')"
   ]
  },
  {
   "cell_type": "code",
   "execution_count": null,
   "metadata": {},
   "outputs": [],
   "source": [
    "# 找出极端离群值\n",
    "most_severe_test = test_error.idxmax()\n",
    "test.iloc[most_severe_test]"
   ]
  },
  {
   "cell_type": "markdown",
   "metadata": {},
   "source": [
    "从分布图中可以看到，我们的模型对测试集上其中一个样本的预测表现非常差。该样本是一个极端的离群样本。该车是一个6缸高配版的车，并且其已行驶英里数只有~60,000英里左右，但是其卖出的价格才\\$2612。\n",
    "\n",
    "根据经验，我们猜测这个离群样本出现的两种可能：\n",
    "\n",
    "1. 在网站里填写时出错；\n",
    "2. 该车辆有车体的损伤或者有汽车所有权问题（偷来的或者劫来的）"
   ]
  },
  {
   "cell_type": "markdown",
   "metadata": {},
   "source": [
    "## 8. 在测试集上使用LOF进行离群值检测（待在样本点上画出代表LOF的圈20170512 18:30）"
   ]
  },
  {
   "cell_type": "markdown",
   "metadata": {},
   "source": [
    "### 8.1 原测试集数据可视化"
   ]
  },
  {
   "cell_type": "code",
   "execution_count": null,
   "metadata": {},
   "outputs": [],
   "source": [
    "test = pd.read_csv('accord_sedan_testing.csv')\n",
    "fig = plt.figure(figsize=(7,7))\n",
    "plt.scatter(test['mileage'], \n",
    "            test['price'], \n",
    "            c='#EE5150',\n",
    "            marker='^',\n",
    "            label='testing set')\n",
    "plt.xlabel('$mileage$')\n",
    "plt.ylabel('$price$')\n",
    "plt.grid('on')\n",
    "plt.legend(loc = 'upper right',\n",
    "           frameon=True,\n",
    "           edgecolor='k',\n",
    "           framealpha=1,\n",
    "           fontsize = 12)\n",
    "sns.set_style('dark')"
   ]
  },
  {
   "cell_type": "markdown",
   "metadata": {},
   "source": [
    "### 8.2 计算每个样本点的LOF因子值"
   ]
  },
  {
   "cell_type": "markdown",
   "metadata": {},
   "source": [
    "### 可达密度计算公式\n",
    "\n",
    "$$lrd_k(x) = \\left( \\frac{1}{k} \\sum_{y \\in N_k(x)} rd_k(x, y)  \\right)^{-1}$$\n",
    "其中 $rd_k(x, y)$ 样本点$x$到样本点$y$的第$k$可达距离"
   ]
  },
  {
   "cell_type": "markdown",
   "metadata": {},
   "source": [
    "### LOF因子计算公式\n",
    "$$lof_{k}(x) = \\frac{1}{k}  \\sum_{y \\in N_k(x)}  \\frac{lrd_k(y)}{lrd_k(x)}$$"
   ]
  },
  {
   "cell_type": "markdown",
   "metadata": {},
   "source": [
    "LOF算法的一般流程可以描述为：\n",
    "\n",
    "1. 初始化$k$，用于后续计算第$k$距离；\n",
    "\n",
    "2. 计算每个样本点与其他点的距离，并对其排序；\n",
    "\n",
    "3. 计算每个样本点的第$k$距离，第$k$领域；\n",
    "\n",
    "4. 计算每个样本点的可达密度以及LOF值；\n",
    "\n",
    "5. 对所有样本点的LOF值进行排序，与1作比较，越大于1，越可能是离群值。"
   ]
  },
  {
   "cell_type": "code",
   "execution_count": null,
   "metadata": {},
   "outputs": [],
   "source": [
    "test_2d = test[['mileage','price']]"
   ]
  },
  {
   "cell_type": "markdown",
   "metadata": {},
   "source": [
    "### 方法一"
   ]
  },
  {
   "cell_type": "code",
   "execution_count": null,
   "metadata": {
    "collapsed": true
   },
   "outputs": [],
   "source": [
    "from sklearn.neighbors import NearestNeighbors\n",
    "import numpy as np\n",
    "neigh = NearestNeighbors(5) # 默认为欧式距离\n",
    "model = neigh.fit(test_2d)\n",
    "\n",
    "data = test_2d\n",
    "# dist为每个样本点与第k距离邻域内的点的距离（包括自身）,neighbor为第k距离邻域点的编号（包括自身）\n",
    "dist, neighbor=neigh.kneighbors(test_2d,n_neighbors=6)\n",
    "\n",
    "k_distance_p = np.max(dist,axis=1)\n",
    "\n",
    "nums = data.shape[0]\n",
    "lrdk_p = []\n",
    "lof = []\n",
    "for p_index in xrange(nums):\n",
    "    rdk_po = []\n",
    "    neighbor_p = neighbor[p_index][neighbor[p_index]!=p_index]\n",
    "    for o_index in neighbor_p:\n",
    "        rdk_po.append(max(k_distance_p[o_index],int(dist[p_index][neighbor[p_index]==o_index])))\n",
    "    lrdk_p.append(float(len(neighbor_p))/sum(rdk_po))\n",
    "\n",
    "for p_index in xrange(nums):\n",
    "    lrdk_o=[]\n",
    "    neighbor_p = neighbor[p_index][neighbor[p_index]!=p_index]\n",
    "    for o_index in neighbor_p:\n",
    "        lrdk_o.append(lrdk_p[o_index])\n",
    "    lof.append(float(sum(lrdk_o))/(len(neighbor_p)*(lrdk_p[p_index])))    "
   ]
  },
  {
   "cell_type": "markdown",
   "metadata": {},
   "source": [
    "### 方法二（需要检查一下，有一点问题）"
   ]
  },
  {
   "cell_type": "code",
   "execution_count": null,
   "metadata": {
    "collapsed": true
   },
   "outputs": [],
   "source": [
    "# 导入sklearn用于计算最近邻相关数据的方法 NearestNeighbors\n",
    "from sklearn.neighbors import NearestNeighbors\n",
    "import numpy as np\n",
    "\n",
    "data = test_2d.values\n",
    "\n",
    "# 定义函数计算第k距离及其第k距离邻域内的点\n",
    "def k_Distance(data, k):\n",
    "    neigh = NearestNeighbors(k)\n",
    "    model = neigh.fit(data)\n",
    "    \n",
    "    nums = data.shape[0]\n",
    "\n",
    "    k_distance = []\n",
    "    neighbor_info = []\n",
    "    \n",
    "    for index in xrange(nums):\n",
    "        \n",
    "        # dist 包含第k距离邻域及其内的点与目标样本点的距离信息\n",
    "        dist = neigh.kneighbors([data[index]], n_neighbors = k + 1)\n",
    "        # 最大的dist\n",
    "        k_distance.append(dist[0][-1][-1])\n",
    "        \n",
    "        # neighbor为k个邻居的索引，dists为相应的距离\n",
    "        dists, neighbor = neigh.radius_neighbors([data[index]], radius = k_distance[index]+1)\n",
    "        \n",
    "        # 排除自身\n",
    "        mask = neighbor[0] != index     \n",
    "        neighbor_info.append([neighbor[0][mask], dists[0][mask]])\n",
    "    return k_distance, neighbor_info"
   ]
  },
  {
   "cell_type": "code",
   "execution_count": null,
   "metadata": {
    "collapsed": true
   },
   "outputs": [],
   "source": [
    "# 定义函数计算局部可达密度\n",
    "def reach_density(data, k_distance, neighbor_info):\n",
    "    \n",
    "    nums = data.shape[0]\n",
    "    density_list = []\n",
    "    \n",
    "    for index in xrange(nums):\n",
    "        \n",
    "        neighbors, dists = neighbor_info[index]\n",
    "        nums_neigh = len(neighbors)\n",
    "    \n",
    "        sum_dist = 0\n",
    "        \n",
    "        for item in xrange(nums_neigh):\n",
    "            \n",
    "            k_dist_o = k_distance[neighbors[item]] \n",
    "    \n",
    "            direct_dist = dists[item]\n",
    "        \n",
    "            # 计算p点到o点的第k可达距离\n",
    "            reach_dist_p_o = max(k_dist_o, direct_dist)\n",
    "        \n",
    "            sum_dist += reach_dist_p_o\n",
    "           \n",
    "        density_list.append(nums_neigh/sum_dist)\n",
    "    \n",
    "    return density_list"
   ]
  },
  {
   "cell_type": "code",
   "execution_count": null,
   "metadata": {
    "collapsed": true
   },
   "outputs": [],
   "source": [
    "# 定义函数计算LOF因子\n",
    "def cal_lof(index, data, neighbor_info, lrd_list):\n",
    "    \n",
    "    point_p = data[index]\n",
    "    neighbors, _ = neighbor_info[index]\n",
    "    \n",
    "    nums_neigh = len(neighbors)\n",
    "    sum_density = 0\n",
    "    \n",
    "    for item in xrange(nums_neigh):\n",
    "        \n",
    "        sum_density += lrd_list[item]/lrd_list[index]\n",
    "        \n",
    "        #sum_density += lrd_list[item]\n",
    "    return sum_density/nums_neigh\n",
    "    #return sum_density/(nums_neigh*lrd_list[index])"
   ]
  },
  {
   "cell_type": "code",
   "execution_count": null,
   "metadata": {
    "scrolled": false
   },
   "outputs": [],
   "source": [
    "# 计算第k可达距离\n",
    "k_distance, neighbor_info = k_Distance(data,3) \n",
    "\n",
    "# 计算局部可达密度 local reachability density \n",
    "lrd_list = reach_density(data, k_distance, neighbor_info) \n",
    "\n",
    "# 样本点数量\n",
    "nums = data.shape[0] \n",
    "\n",
    "# 最终的LOF因子列表\n",
    "lof_list = []\n",
    "\n",
    "for index in xrange(nums):\n",
    "    \n",
    "    lof = cal_lof(index, data, neighbor_info, lrd_list)\n",
    "    lof_list.append(lof)\n",
    "\n",
    "# 设置阈值，大于阈值的认为是离群值\n",
    "threshold = 2\n",
    "boolean_array = [outlier_item > threshold for outlier_item in lof_list]\n",
    "\n",
    "indicy = []\n",
    "for key, value in enumerate(boolean_array):\n",
    "    if value:\n",
    "        indicy.append(key)\n",
    "print indicy"
   ]
  },
  {
   "cell_type": "code",
   "execution_count": null,
   "metadata": {},
   "outputs": [],
   "source": [
    "lof_list[73]"
   ]
  },
  {
   "cell_type": "markdown",
   "metadata": {},
   "source": [
    "### 8.3 在二维图上表示每个样本点的LOF值"
   ]
  },
  {
   "cell_type": "code",
   "execution_count": null,
   "metadata": {},
   "outputs": [],
   "source": [
    "# 人为产生离群值，检测算法\n",
    "#test_2d.loc[100]={'mileage':500,'price':1500}"
   ]
  },
  {
   "cell_type": "code",
   "execution_count": null,
   "metadata": {
    "collapsed": true
   },
   "outputs": [],
   "source": [
    "data = test_2d"
   ]
  },
  {
   "cell_type": "code",
   "execution_count": null,
   "metadata": {},
   "outputs": [],
   "source": [
    "# 设置阈值，大于阈值的认为是离群值\n",
    "threshold = 2\n",
    "boolean_array = [outlier_item > threshold for outlier_item in lof]\n",
    "\n",
    "indicy = []\n",
    "for key, value in enumerate(boolean_array):\n",
    "    if value:\n",
    "        indicy.append(key)\n",
    "print indicy"
   ]
  },
  {
   "cell_type": "code",
   "execution_count": null,
   "metadata": {},
   "outputs": [],
   "source": [
    "fig = plt.figure(figsize=(7,7))\n",
    "\n",
    "for index,size in zip(xrange(nums),lof):\n",
    "    if index in indicy:\n",
    "        plt.scatter(data['mileage'][index], \n",
    "                    data['price'][index], \n",
    "                    s=np.exp(lof[index])*50,\n",
    "                    c='#efab40',\n",
    "                    alpha=0.6,\n",
    "                    marker='o')\n",
    "        plt.text(data['mileage'][index]-np.exp(lof[index])*50, \n",
    "                 data['price'][index]-np.exp(lof[index])*50,\n",
    "                str(round(lof[index],2)))\n",
    "    else:\n",
    "        plt.scatter(data['mileage'][index], \n",
    "                    data['price'][index], \n",
    "                    s=np.exp(lof[index])*50,\n",
    "                    c='#5dbe80',\n",
    "                    alpha=0.6,\n",
    "                    marker='o')\n",
    "        plt.text(data['mileage'][index]-np.exp(lof[index])*50, \n",
    "                 data['price'][index]-np.exp(lof[index])*50,\n",
    "                str(round(lof[index],2)),\n",
    "                fontsize=7)\n",
    "\n",
    "plt.xlabel('mileage')\n",
    "plt.ylabel('price')\n",
    "plt.grid('off')\n",
    "#sns.set_style('white')\n",
    "plt.savefig('./outlier.eps',format='eps')"
   ]
  },
  {
   "cell_type": "markdown",
   "metadata": {},
   "source": [
    "### 练习：尝试使用 oneclassSVM、IsolationForest和Robust covariance方法对离群价格进行检测？"
   ]
  },
  {
   "cell_type": "markdown",
   "metadata": {},
   "source": [
    "<center><font color=\"#888\">Copyright &copy; 2017 Sid Ian@Boya, <a href=\"mailto:xiaodongy@boyabigdata.cn\">xiaodongy@boyabigdata.cn</a>. All Rights Reserved.</font></center>"
   ]
  }
 ],
 "metadata": {
  "kernelspec": {
   "display_name": "Python 2",
   "language": "python",
   "name": "python2"
  },
  "language_info": {
   "codemirror_mode": {
    "name": "ipython",
    "version": 2
   },
   "file_extension": ".py",
   "mimetype": "text/x-python",
   "name": "python",
   "nbconvert_exporter": "python",
   "pygments_lexer": "ipython2",
   "version": "2.7.13"
  },
  "toc": {
   "colors": {
    "hover_highlight": "#DAA520",
    "navigate_num": "#000000",
    "navigate_text": "#333333",
    "running_highlight": "#FF0000",
    "selected_highlight": "#FFD700",
    "sidebar_border": "#EEEEEE",
    "wrapper_background": "#FFFFFF"
   },
   "moveMenuLeft": true,
   "nav_menu": {
    "height": "333px",
    "width": "252px"
   },
   "navigate_menu": true,
   "number_sections": true,
   "sideBar": true,
   "threshold": 4,
   "toc_cell": false,
   "toc_section_display": "block",
   "toc_window_display": false,
   "widenNotebook": false
  }
 },
 "nbformat": 4,
 "nbformat_minor": 2
}
