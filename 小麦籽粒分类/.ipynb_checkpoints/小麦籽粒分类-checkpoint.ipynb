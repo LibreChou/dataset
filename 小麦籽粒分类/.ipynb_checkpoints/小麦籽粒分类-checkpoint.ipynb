{
 "cells": [
  {
   "cell_type": "markdown",
   "metadata": {},
   "source": [
    "## 包版本信息"
   ]
  },
  {
   "cell_type": "code",
   "execution_count": 3,
   "metadata": {},
   "outputs": [
    {
     "name": "stdout",
     "output_type": "stream",
     "text": [
      "numpy==1.13.1\n",
      "numpydoc==0.6.0\n",
      "pandas==0.20.3\n",
      "scikit-learn==0.19.0\n"
     ]
    }
   ],
   "source": [
    "!pip freeze | grep numpy\n",
    "!pip freeze | grep pandas\n",
    "!pip freeze | grep scikit-learn"
   ]
  },
  {
   "cell_type": "markdown",
   "metadata": {
    "collapsed": true
   },
   "source": [
    "## 数据预处理"
   ]
  },
  {
   "cell_type": "code",
   "execution_count": 57,
   "metadata": {
    "collapsed": true
   },
   "outputs": [],
   "source": [
    "import numpy as np\n",
    "import pandas as pd\n",
    "\n",
    "## 隐藏warning信息\n",
    "import warnings\n",
    "warnings.filterwarnings('ignore')"
   ]
  },
  {
   "cell_type": "markdown",
   "metadata": {},
   "source": [
    "由于数据集以`txt`文件存储，使用`Pandas`的`read_table()`函数读入数据，分隔符为`\\t`。"
   ]
  },
  {
   "cell_type": "code",
   "execution_count": 58,
   "metadata": {},
   "outputs": [
    {
     "data": {
      "text/html": [
       "<div>\n",
       "<style>\n",
       "    .dataframe thead tr:only-child th {\n",
       "        text-align: right;\n",
       "    }\n",
       "\n",
       "    .dataframe thead th {\n",
       "        text-align: left;\n",
       "    }\n",
       "\n",
       "    .dataframe tbody tr th {\n",
       "        vertical-align: top;\n",
       "    }\n",
       "</style>\n",
       "<table border=\"1\" class=\"dataframe\">\n",
       "  <thead>\n",
       "    <tr style=\"text-align: right;\">\n",
       "      <th></th>\n",
       "      <th>x1</th>\n",
       "      <th>x2</th>\n",
       "      <th>x3</th>\n",
       "      <th>x4</th>\n",
       "      <th>x5</th>\n",
       "      <th>x6</th>\n",
       "      <th>x7</th>\n",
       "      <th>label</th>\n",
       "    </tr>\n",
       "  </thead>\n",
       "  <tbody>\n",
       "    <tr>\n",
       "      <th>0</th>\n",
       "      <td>15.26</td>\n",
       "      <td>14.84</td>\n",
       "      <td>0.8710</td>\n",
       "      <td>5.763</td>\n",
       "      <td>3.312</td>\n",
       "      <td>2.221</td>\n",
       "      <td>5.220</td>\n",
       "      <td>1</td>\n",
       "    </tr>\n",
       "    <tr>\n",
       "      <th>1</th>\n",
       "      <td>14.88</td>\n",
       "      <td>14.57</td>\n",
       "      <td>0.8811</td>\n",
       "      <td>5.554</td>\n",
       "      <td>3.333</td>\n",
       "      <td>1.018</td>\n",
       "      <td>4.956</td>\n",
       "      <td>1</td>\n",
       "    </tr>\n",
       "    <tr>\n",
       "      <th>2</th>\n",
       "      <td>14.29</td>\n",
       "      <td>14.09</td>\n",
       "      <td>0.9050</td>\n",
       "      <td>5.291</td>\n",
       "      <td>3.337</td>\n",
       "      <td>2.699</td>\n",
       "      <td>4.825</td>\n",
       "      <td>1</td>\n",
       "    </tr>\n",
       "    <tr>\n",
       "      <th>3</th>\n",
       "      <td>13.84</td>\n",
       "      <td>13.94</td>\n",
       "      <td>0.8955</td>\n",
       "      <td>5.324</td>\n",
       "      <td>3.379</td>\n",
       "      <td>2.259</td>\n",
       "      <td>4.805</td>\n",
       "      <td>1</td>\n",
       "    </tr>\n",
       "    <tr>\n",
       "      <th>4</th>\n",
       "      <td>16.14</td>\n",
       "      <td>14.99</td>\n",
       "      <td>0.9034</td>\n",
       "      <td>5.658</td>\n",
       "      <td>3.562</td>\n",
       "      <td>1.355</td>\n",
       "      <td>5.175</td>\n",
       "      <td>1</td>\n",
       "    </tr>\n",
       "  </tbody>\n",
       "</table>\n",
       "</div>"
      ],
      "text/plain": [
       "      x1     x2      x3     x4     x5     x6     x7  label\n",
       "0  15.26  14.84  0.8710  5.763  3.312  2.221  5.220      1\n",
       "1  14.88  14.57  0.8811  5.554  3.333  1.018  4.956      1\n",
       "2  14.29  14.09  0.9050  5.291  3.337  2.699  4.825      1\n",
       "3  13.84  13.94  0.8955  5.324  3.379  2.259  4.805      1\n",
       "4  16.14  14.99  0.9034  5.658  3.562  1.355  5.175      1"
      ]
     },
     "execution_count": 58,
     "metadata": {},
     "output_type": "execute_result"
    }
   ],
   "source": [
    "data = pd.read_table('seed.txt', sep='\\t', names = ['x1', 'x2', 'x3', 'x4', 'x5', 'x6', 'x7','label'])\n",
    "data.head()"
   ]
  },
  {
   "cell_type": "markdown",
   "metadata": {},
   "source": [
    "然后，我们将`data['label']`的取值减`1`, 标签取值范围为`[0, 1, 2]`。"
   ]
  },
  {
   "cell_type": "code",
   "execution_count": 59,
   "metadata": {},
   "outputs": [
    {
     "data": {
      "text/html": [
       "<div>\n",
       "<style>\n",
       "    .dataframe thead tr:only-child th {\n",
       "        text-align: right;\n",
       "    }\n",
       "\n",
       "    .dataframe thead th {\n",
       "        text-align: left;\n",
       "    }\n",
       "\n",
       "    .dataframe tbody tr th {\n",
       "        vertical-align: top;\n",
       "    }\n",
       "</style>\n",
       "<table border=\"1\" class=\"dataframe\">\n",
       "  <thead>\n",
       "    <tr style=\"text-align: right;\">\n",
       "      <th></th>\n",
       "      <th>x1</th>\n",
       "      <th>x2</th>\n",
       "      <th>x3</th>\n",
       "      <th>x4</th>\n",
       "      <th>x5</th>\n",
       "      <th>x6</th>\n",
       "      <th>x7</th>\n",
       "      <th>label</th>\n",
       "    </tr>\n",
       "  </thead>\n",
       "  <tbody>\n",
       "    <tr>\n",
       "      <th>0</th>\n",
       "      <td>15.26</td>\n",
       "      <td>14.84</td>\n",
       "      <td>0.8710</td>\n",
       "      <td>5.763</td>\n",
       "      <td>3.312</td>\n",
       "      <td>2.221</td>\n",
       "      <td>5.220</td>\n",
       "      <td>0</td>\n",
       "    </tr>\n",
       "    <tr>\n",
       "      <th>1</th>\n",
       "      <td>14.88</td>\n",
       "      <td>14.57</td>\n",
       "      <td>0.8811</td>\n",
       "      <td>5.554</td>\n",
       "      <td>3.333</td>\n",
       "      <td>1.018</td>\n",
       "      <td>4.956</td>\n",
       "      <td>0</td>\n",
       "    </tr>\n",
       "    <tr>\n",
       "      <th>2</th>\n",
       "      <td>14.29</td>\n",
       "      <td>14.09</td>\n",
       "      <td>0.9050</td>\n",
       "      <td>5.291</td>\n",
       "      <td>3.337</td>\n",
       "      <td>2.699</td>\n",
       "      <td>4.825</td>\n",
       "      <td>0</td>\n",
       "    </tr>\n",
       "    <tr>\n",
       "      <th>3</th>\n",
       "      <td>13.84</td>\n",
       "      <td>13.94</td>\n",
       "      <td>0.8955</td>\n",
       "      <td>5.324</td>\n",
       "      <td>3.379</td>\n",
       "      <td>2.259</td>\n",
       "      <td>4.805</td>\n",
       "      <td>0</td>\n",
       "    </tr>\n",
       "    <tr>\n",
       "      <th>4</th>\n",
       "      <td>16.14</td>\n",
       "      <td>14.99</td>\n",
       "      <td>0.9034</td>\n",
       "      <td>5.658</td>\n",
       "      <td>3.562</td>\n",
       "      <td>1.355</td>\n",
       "      <td>5.175</td>\n",
       "      <td>0</td>\n",
       "    </tr>\n",
       "  </tbody>\n",
       "</table>\n",
       "</div>"
      ],
      "text/plain": [
       "      x1     x2      x3     x4     x5     x6     x7  label\n",
       "0  15.26  14.84  0.8710  5.763  3.312  2.221  5.220      0\n",
       "1  14.88  14.57  0.8811  5.554  3.333  1.018  4.956      0\n",
       "2  14.29  14.09  0.9050  5.291  3.337  2.699  4.825      0\n",
       "3  13.84  13.94  0.8955  5.324  3.379  2.259  4.805      0\n",
       "4  16.14  14.99  0.9034  5.658  3.562  1.355  5.175      0"
      ]
     },
     "execution_count": 59,
     "metadata": {},
     "output_type": "execute_result"
    }
   ],
   "source": [
    "data['label'] = data['label'] - 1\n",
    "data.head()"
   ]
  },
  {
   "cell_type": "code",
   "execution_count": 60,
   "metadata": {},
   "outputs": [
    {
     "data": {
      "text/plain": [
       "(210, 8)"
      ]
     },
     "execution_count": 60,
     "metadata": {},
     "output_type": "execute_result"
    }
   ],
   "source": [
    "data.shape"
   ]
  },
  {
   "cell_type": "code",
   "execution_count": 61,
   "metadata": {},
   "outputs": [
    {
     "data": {
      "text/plain": [
       "x1       0\n",
       "x2       0\n",
       "x3       0\n",
       "x4       0\n",
       "x5       0\n",
       "x6       0\n",
       "x7       0\n",
       "label    0\n",
       "dtype: int64"
      ]
     },
     "execution_count": 61,
     "metadata": {},
     "output_type": "execute_result"
    }
   ],
   "source": [
    "# 检查有无缺失值\n",
    "np.sum(data.isnull())"
   ]
  },
  {
   "cell_type": "code",
   "execution_count": 62,
   "metadata": {},
   "outputs": [
    {
     "data": {
      "text/plain": [
       "2    70\n",
       "1    70\n",
       "0    70\n",
       "Name: label, dtype: int64"
      ]
     },
     "execution_count": 62,
     "metadata": {},
     "output_type": "execute_result"
    }
   ],
   "source": [
    "# 标签label的取值1，2，3\n",
    "data['label'].value_counts()"
   ]
  },
  {
   "cell_type": "code",
   "execution_count": 63,
   "metadata": {},
   "outputs": [
    {
     "data": {
      "text/plain": [
       "array([0, 1, 2])"
      ]
     },
     "execution_count": 63,
     "metadata": {},
     "output_type": "execute_result"
    }
   ],
   "source": [
    "class_label = np.unique(data['label'])\n",
    "class_label"
   ]
  },
  {
   "cell_type": "code",
   "execution_count": 64,
   "metadata": {},
   "outputs": [
    {
     "name": "stdout",
     "output_type": "stream",
     "text": [
      "<class 'pandas.core.frame.DataFrame'>\n",
      "RangeIndex: 210 entries, 0 to 209\n",
      "Data columns (total 8 columns):\n",
      "x1       210 non-null float64\n",
      "x2       210 non-null float64\n",
      "x3       210 non-null float64\n",
      "x4       210 non-null float64\n",
      "x5       210 non-null float64\n",
      "x6       210 non-null float64\n",
      "x7       210 non-null float64\n",
      "label    210 non-null int64\n",
      "dtypes: float64(7), int64(1)\n",
      "memory usage: 13.2 KB\n"
     ]
    }
   ],
   "source": [
    "data.info()"
   ]
  },
  {
   "cell_type": "code",
   "execution_count": 65,
   "metadata": {},
   "outputs": [
    {
     "data": {
      "text/html": [
       "<div>\n",
       "<style>\n",
       "    .dataframe thead tr:only-child th {\n",
       "        text-align: right;\n",
       "    }\n",
       "\n",
       "    .dataframe thead th {\n",
       "        text-align: left;\n",
       "    }\n",
       "\n",
       "    .dataframe tbody tr th {\n",
       "        vertical-align: top;\n",
       "    }\n",
       "</style>\n",
       "<table border=\"1\" class=\"dataframe\">\n",
       "  <thead>\n",
       "    <tr style=\"text-align: right;\">\n",
       "      <th></th>\n",
       "      <th>x1</th>\n",
       "      <th>x2</th>\n",
       "      <th>x3</th>\n",
       "      <th>x4</th>\n",
       "      <th>x5</th>\n",
       "      <th>x6</th>\n",
       "      <th>x7</th>\n",
       "      <th>label</th>\n",
       "    </tr>\n",
       "  </thead>\n",
       "  <tbody>\n",
       "    <tr>\n",
       "      <th>count</th>\n",
       "      <td>210.000000</td>\n",
       "      <td>210.000000</td>\n",
       "      <td>210.000000</td>\n",
       "      <td>210.000000</td>\n",
       "      <td>210.000000</td>\n",
       "      <td>210.000000</td>\n",
       "      <td>210.000000</td>\n",
       "      <td>210.000000</td>\n",
       "    </tr>\n",
       "    <tr>\n",
       "      <th>mean</th>\n",
       "      <td>14.847524</td>\n",
       "      <td>14.559286</td>\n",
       "      <td>0.870999</td>\n",
       "      <td>5.628533</td>\n",
       "      <td>3.258605</td>\n",
       "      <td>3.700201</td>\n",
       "      <td>5.408071</td>\n",
       "      <td>1.000000</td>\n",
       "    </tr>\n",
       "    <tr>\n",
       "      <th>std</th>\n",
       "      <td>2.909699</td>\n",
       "      <td>1.305959</td>\n",
       "      <td>0.023629</td>\n",
       "      <td>0.443063</td>\n",
       "      <td>0.377714</td>\n",
       "      <td>1.503557</td>\n",
       "      <td>0.491480</td>\n",
       "      <td>0.818448</td>\n",
       "    </tr>\n",
       "    <tr>\n",
       "      <th>min</th>\n",
       "      <td>10.590000</td>\n",
       "      <td>12.410000</td>\n",
       "      <td>0.808100</td>\n",
       "      <td>4.899000</td>\n",
       "      <td>2.630000</td>\n",
       "      <td>0.765100</td>\n",
       "      <td>4.519000</td>\n",
       "      <td>0.000000</td>\n",
       "    </tr>\n",
       "    <tr>\n",
       "      <th>25%</th>\n",
       "      <td>12.270000</td>\n",
       "      <td>13.450000</td>\n",
       "      <td>0.856900</td>\n",
       "      <td>5.262250</td>\n",
       "      <td>2.944000</td>\n",
       "      <td>2.561500</td>\n",
       "      <td>5.045000</td>\n",
       "      <td>0.000000</td>\n",
       "    </tr>\n",
       "    <tr>\n",
       "      <th>50%</th>\n",
       "      <td>14.355000</td>\n",
       "      <td>14.320000</td>\n",
       "      <td>0.873450</td>\n",
       "      <td>5.523500</td>\n",
       "      <td>3.237000</td>\n",
       "      <td>3.599000</td>\n",
       "      <td>5.223000</td>\n",
       "      <td>1.000000</td>\n",
       "    </tr>\n",
       "    <tr>\n",
       "      <th>75%</th>\n",
       "      <td>17.305000</td>\n",
       "      <td>15.715000</td>\n",
       "      <td>0.887775</td>\n",
       "      <td>5.979750</td>\n",
       "      <td>3.561750</td>\n",
       "      <td>4.768750</td>\n",
       "      <td>5.877000</td>\n",
       "      <td>2.000000</td>\n",
       "    </tr>\n",
       "    <tr>\n",
       "      <th>max</th>\n",
       "      <td>21.180000</td>\n",
       "      <td>17.250000</td>\n",
       "      <td>0.918300</td>\n",
       "      <td>6.675000</td>\n",
       "      <td>4.033000</td>\n",
       "      <td>8.456000</td>\n",
       "      <td>6.550000</td>\n",
       "      <td>2.000000</td>\n",
       "    </tr>\n",
       "  </tbody>\n",
       "</table>\n",
       "</div>"
      ],
      "text/plain": [
       "               x1          x2          x3          x4          x5          x6  \\\n",
       "count  210.000000  210.000000  210.000000  210.000000  210.000000  210.000000   \n",
       "mean    14.847524   14.559286    0.870999    5.628533    3.258605    3.700201   \n",
       "std      2.909699    1.305959    0.023629    0.443063    0.377714    1.503557   \n",
       "min     10.590000   12.410000    0.808100    4.899000    2.630000    0.765100   \n",
       "25%     12.270000   13.450000    0.856900    5.262250    2.944000    2.561500   \n",
       "50%     14.355000   14.320000    0.873450    5.523500    3.237000    3.599000   \n",
       "75%     17.305000   15.715000    0.887775    5.979750    3.561750    4.768750   \n",
       "max     21.180000   17.250000    0.918300    6.675000    4.033000    8.456000   \n",
       "\n",
       "               x7       label  \n",
       "count  210.000000  210.000000  \n",
       "mean     5.408071    1.000000  \n",
       "std      0.491480    0.818448  \n",
       "min      4.519000    0.000000  \n",
       "25%      5.045000    0.000000  \n",
       "50%      5.223000    1.000000  \n",
       "75%      5.877000    2.000000  \n",
       "max      6.550000    2.000000  "
      ]
     },
     "execution_count": 65,
     "metadata": {},
     "output_type": "execute_result"
    }
   ],
   "source": [
    "data.describe()"
   ]
  },
  {
   "cell_type": "markdown",
   "metadata": {},
   "source": [
    "## 分类建模\n",
    "\n",
    "\n",
    "### 逻辑回归"
   ]
  },
  {
   "cell_type": "code",
   "execution_count": 19,
   "metadata": {},
   "outputs": [],
   "source": [
    "from sklearn.cross_validation import cross_val_score\n",
    "from sklearn.model_selection import GridSearchCV\n",
    "from sklearn.model_selection import train_test_split\n",
    "from sklearn.linear_model.logistic import LogisticRegression\n",
    "from sklearn.metrics import classification_report, accuracy_score, confusion_matrix"
   ]
  },
  {
   "cell_type": "code",
   "execution_count": 20,
   "metadata": {
    "collapsed": true
   },
   "outputs": [],
   "source": [
    "def evaluate(pred,test_y):\n",
    "    \n",
    "    import seaborn as sns\n",
    "    import matplotlib.pyplot as plt\n",
    "    import sklearn.metrics as metrics\n",
    "    # 输出分类的准确率\n",
    "    print(\"Accuracy: %.4f\"  % (metrics.accuracy_score(test_y,pred)))\n",
    "    \n",
    "    # 输出衡量分类效果的各项指标\n",
    "    print(classification_report(test_y, pred)) \n",
    "    \n",
    "    # 更直观的，我们通过seaborn画出混淆矩阵\n",
    "    %matplotlib inline\n",
    "    plt.figure(figsize=(6,4))\n",
    "    colorMetrics = metrics.confusion_matrix(test_y,pred)\n",
    "    \n",
    "    # 坐标y代表test_y，即真实的类别，坐标x代表估计出的类别pred\n",
    "    sns.heatmap(colorMetrics, annot=True, fmt='d', xticklabels=[1,2,3],yticklabels=[1,2,3])\n",
    "    sns.plt.show()"
   ]
  },
  {
   "cell_type": "code",
   "execution_count": 23,
   "metadata": {},
   "outputs": [],
   "source": [
    "## 数据准备\n",
    "\n",
    "X = data.iloc[:, :-1]\n",
    "y = data['label']\n",
    "X_train, X_test, y_train, y_test = train_test_split(X, y, test_size=.25)"
   ]
  },
  {
   "cell_type": "code",
   "execution_count": 24,
   "metadata": {},
   "outputs": [
    {
     "data": {
      "text/plain": [
       "GridSearchCV(cv=None, error_score='raise',\n",
       "       estimator=LogisticRegression(C=1.0, class_weight=None, dual=False, fit_intercept=True,\n",
       "          intercept_scaling=1, max_iter=100, multi_class='ovr', n_jobs=1,\n",
       "          penalty='l2', random_state=None, solver='liblinear', tol=0.0001,\n",
       "          verbose=0, warm_start=False),\n",
       "       fit_params=None, iid=True, n_jobs=1,\n",
       "       param_grid={'C': [0.001, 0.01, 0.1, 1, 10]},\n",
       "       pre_dispatch='2*n_jobs', refit=True, return_train_score=True,\n",
       "       scoring='accuracy', verbose=0)"
      ]
     },
     "execution_count": 24,
     "metadata": {},
     "output_type": "execute_result"
    }
   ],
   "source": [
    "lr = LogisticRegression()\n",
    "param_dict = {'C': [0.001, 0.01, 0.1, 1, 10]}\n",
    "gs = GridSearchCV(lr, param_grid = param_dict, scoring='accuracy')\n",
    "gs.fit(X_train, y_train)"
   ]
  },
  {
   "cell_type": "code",
   "execution_count": 25,
   "metadata": {},
   "outputs": [
    {
     "data": {
      "text/html": [
       "<div>\n",
       "<style>\n",
       "    .dataframe thead tr:only-child th {\n",
       "        text-align: right;\n",
       "    }\n",
       "\n",
       "    .dataframe thead th {\n",
       "        text-align: left;\n",
       "    }\n",
       "\n",
       "    .dataframe tbody tr th {\n",
       "        vertical-align: top;\n",
       "    }\n",
       "</style>\n",
       "<table border=\"1\" class=\"dataframe\">\n",
       "  <thead>\n",
       "    <tr style=\"text-align: right;\">\n",
       "      <th></th>\n",
       "      <th>mean_fit_time</th>\n",
       "      <th>mean_score_time</th>\n",
       "      <th>mean_test_score</th>\n",
       "      <th>mean_train_score</th>\n",
       "      <th>param_C</th>\n",
       "      <th>params</th>\n",
       "      <th>rank_test_score</th>\n",
       "      <th>split0_test_score</th>\n",
       "      <th>split0_train_score</th>\n",
       "      <th>split1_test_score</th>\n",
       "      <th>split1_train_score</th>\n",
       "      <th>split2_test_score</th>\n",
       "      <th>split2_train_score</th>\n",
       "      <th>std_fit_time</th>\n",
       "      <th>std_score_time</th>\n",
       "      <th>std_test_score</th>\n",
       "      <th>std_train_score</th>\n",
       "    </tr>\n",
       "  </thead>\n",
       "  <tbody>\n",
       "    <tr>\n",
       "      <th>0</th>\n",
       "      <td>0.015219</td>\n",
       "      <td>0.002470</td>\n",
       "      <td>0.382166</td>\n",
       "      <td>0.381955</td>\n",
       "      <td>0.001</td>\n",
       "      <td>{u'C': 0.001}</td>\n",
       "      <td>5</td>\n",
       "      <td>0.415094</td>\n",
       "      <td>0.355769</td>\n",
       "      <td>0.377358</td>\n",
       "      <td>0.375000</td>\n",
       "      <td>0.352941</td>\n",
       "      <td>0.415094</td>\n",
       "      <td>0.019821</td>\n",
       "      <td>0.003011</td>\n",
       "      <td>0.025520</td>\n",
       "      <td>0.024714</td>\n",
       "    </tr>\n",
       "    <tr>\n",
       "      <th>1</th>\n",
       "      <td>0.001227</td>\n",
       "      <td>0.000423</td>\n",
       "      <td>0.783439</td>\n",
       "      <td>0.764393</td>\n",
       "      <td>0.01</td>\n",
       "      <td>{u'C': 0.01}</td>\n",
       "      <td>4</td>\n",
       "      <td>0.754717</td>\n",
       "      <td>0.778846</td>\n",
       "      <td>0.867925</td>\n",
       "      <td>0.759615</td>\n",
       "      <td>0.725490</td>\n",
       "      <td>0.754717</td>\n",
       "      <td>0.000030</td>\n",
       "      <td>0.000113</td>\n",
       "      <td>0.061473</td>\n",
       "      <td>0.010414</td>\n",
       "    </tr>\n",
       "    <tr>\n",
       "      <th>2</th>\n",
       "      <td>0.002254</td>\n",
       "      <td>0.000865</td>\n",
       "      <td>0.885350</td>\n",
       "      <td>0.882196</td>\n",
       "      <td>0.1</td>\n",
       "      <td>{u'C': 0.1}</td>\n",
       "      <td>3</td>\n",
       "      <td>0.886792</td>\n",
       "      <td>0.884615</td>\n",
       "      <td>0.905660</td>\n",
       "      <td>0.884615</td>\n",
       "      <td>0.862745</td>\n",
       "      <td>0.877358</td>\n",
       "      <td>0.000599</td>\n",
       "      <td>0.000528</td>\n",
       "      <td>0.017491</td>\n",
       "      <td>0.003421</td>\n",
       "    </tr>\n",
       "    <tr>\n",
       "      <th>3</th>\n",
       "      <td>0.002277</td>\n",
       "      <td>0.000545</td>\n",
       "      <td>0.910828</td>\n",
       "      <td>0.920356</td>\n",
       "      <td>1</td>\n",
       "      <td>{u'C': 1}</td>\n",
       "      <td>2</td>\n",
       "      <td>0.886792</td>\n",
       "      <td>0.932692</td>\n",
       "      <td>0.962264</td>\n",
       "      <td>0.903846</td>\n",
       "      <td>0.882353</td>\n",
       "      <td>0.924528</td>\n",
       "      <td>0.000724</td>\n",
       "      <td>0.000129</td>\n",
       "      <td>0.036763</td>\n",
       "      <td>0.012140</td>\n",
       "    </tr>\n",
       "    <tr>\n",
       "      <th>4</th>\n",
       "      <td>0.001934</td>\n",
       "      <td>0.000510</td>\n",
       "      <td>0.949045</td>\n",
       "      <td>0.949020</td>\n",
       "      <td>10</td>\n",
       "      <td>{u'C': 10}</td>\n",
       "      <td>1</td>\n",
       "      <td>0.943396</td>\n",
       "      <td>0.980769</td>\n",
       "      <td>1.000000</td>\n",
       "      <td>0.913462</td>\n",
       "      <td>0.901961</td>\n",
       "      <td>0.952830</td>\n",
       "      <td>0.000550</td>\n",
       "      <td>0.000198</td>\n",
       "      <td>0.040093</td>\n",
       "      <td>0.027610</td>\n",
       "    </tr>\n",
       "  </tbody>\n",
       "</table>\n",
       "</div>"
      ],
      "text/plain": [
       "   mean_fit_time  mean_score_time  mean_test_score  mean_train_score param_C  \\\n",
       "0       0.015219         0.002470         0.382166          0.381955   0.001   \n",
       "1       0.001227         0.000423         0.783439          0.764393    0.01   \n",
       "2       0.002254         0.000865         0.885350          0.882196     0.1   \n",
       "3       0.002277         0.000545         0.910828          0.920356       1   \n",
       "4       0.001934         0.000510         0.949045          0.949020      10   \n",
       "\n",
       "          params  rank_test_score  split0_test_score  split0_train_score  \\\n",
       "0  {u'C': 0.001}                5           0.415094            0.355769   \n",
       "1   {u'C': 0.01}                4           0.754717            0.778846   \n",
       "2    {u'C': 0.1}                3           0.886792            0.884615   \n",
       "3      {u'C': 1}                2           0.886792            0.932692   \n",
       "4     {u'C': 10}                1           0.943396            0.980769   \n",
       "\n",
       "   split1_test_score  split1_train_score  split2_test_score  \\\n",
       "0           0.377358            0.375000           0.352941   \n",
       "1           0.867925            0.759615           0.725490   \n",
       "2           0.905660            0.884615           0.862745   \n",
       "3           0.962264            0.903846           0.882353   \n",
       "4           1.000000            0.913462           0.901961   \n",
       "\n",
       "   split2_train_score  std_fit_time  std_score_time  std_test_score  \\\n",
       "0            0.415094      0.019821        0.003011        0.025520   \n",
       "1            0.754717      0.000030        0.000113        0.061473   \n",
       "2            0.877358      0.000599        0.000528        0.017491   \n",
       "3            0.924528      0.000724        0.000129        0.036763   \n",
       "4            0.952830      0.000550        0.000198        0.040093   \n",
       "\n",
       "   std_train_score  \n",
       "0         0.024714  \n",
       "1         0.010414  \n",
       "2         0.003421  \n",
       "3         0.012140  \n",
       "4         0.027610  "
      ]
     },
     "execution_count": 25,
     "metadata": {},
     "output_type": "execute_result"
    }
   ],
   "source": [
    "pd.DataFrame(gs.cv_results_)"
   ]
  },
  {
   "cell_type": "code",
   "execution_count": 26,
   "metadata": {},
   "outputs": [
    {
     "name": "stdout",
     "output_type": "stream",
     "text": [
      "{'C': 10}\n",
      "0.949044585987\n"
     ]
    }
   ],
   "source": [
    "print gs.best_params_\n",
    "print gs.best_score_"
   ]
  },
  {
   "cell_type": "code",
   "execution_count": 27,
   "metadata": {},
   "outputs": [
    {
     "name": "stdout",
     "output_type": "stream",
     "text": [
      "0.942679738562\n"
     ]
    }
   ],
   "source": [
    "lr_cls = gs.best_estimator_\n",
    "score = cross_val_score(lr_cls, X_train, y_train, cv = 10, scoring = 'accuracy')\n",
    "print np.mean(score)"
   ]
  },
  {
   "cell_type": "code",
   "execution_count": 28,
   "metadata": {},
   "outputs": [
    {
     "name": "stdout",
     "output_type": "stream",
     "text": [
      "Accuracy: 0.9811\n",
      "             precision    recall  f1-score   support\n",
      "\n",
      "          0       0.94      1.00      0.97        16\n",
      "          1       1.00      0.94      0.97        18\n",
      "          2       1.00      1.00      1.00        19\n",
      "\n",
      "avg / total       0.98      0.98      0.98        53\n",
      "\n"
     ]
    },
    {
     "data": {
      "image/png": "[encoded data removed]",
      "text/plain": [
       "<matplotlib.figure.Figure at 0x11805f590>"
      ]
     },
     "metadata": {},
     "output_type": "display_data"
    }
   ],
   "source": [
    "evaluate(y_test, lr_cls.predict(X_test))"
   ]
  },
  {
   "cell_type": "markdown",
   "metadata": {},
   "source": [
    "### 高斯混合模型\n",
    "\n",
    "#### 建立模型\n",
    "\n",
    "在本案例中，我们使用`Python`语言实现高斯混合模型。我们把实现过程分为两个部分\n"
   ]
  },
  {
   "cell_type": "markdown",
   "metadata": {},
   "source": [
    "+ 计算Expectation步\n",
    "\n",
    "在这一步，我们计算每条数据记录$x_{n}$分属K个标签的概率$\\gamma_{n}(z_{k}) = p(z_{k} = 1 \\vert x_{n}, \\theta)$。"
   ]
  },
  {
   "cell_type": "code",
   "execution_count": 33,
   "metadata": {
    "collapsed": true
   },
   "outputs": [],
   "source": [
    "'''expectation_step函数\n",
    "\n",
    "输入参数：X: 数据集\n",
    "        pis: p(z = 1)的概率\n",
    "        mus: 高斯分布的均值\n",
    "        sigmas: 高斯分布的协方差\n",
    "\n",
    "返回参数： $x_{n}$分属K个标签的概率矩阵\n",
    "\n",
    "'''\n",
    "def expectation_step(X, pis, mus, sigmas):\n",
    "    \n",
    "    import numpy as np\n",
    "    from scipy.stats import multivariate_normal\n",
    "    \n",
    "    gammas  = np.array([value[0]*multivariate_normal(mean = value[1], cov = value[2]).pdf(X) for value in zip(pis, mus, sigmas)])\n",
    "    return gammas / gammas.sum(axis = 0)"
   ]
  },
  {
   "cell_type": "markdown",
   "metadata": {},
   "source": [
    "+ 计算Maximization步\n",
    "\n",
    "在这一步，我们以完全数据的对数极大似然函数为目标，更新参数`pis`, `mus`, `sigmas`"
   ]
  },
  {
   "cell_type": "code",
   "execution_count": 34,
   "metadata": {
    "collapsed": true
   },
   "outputs": [],
   "source": [
    "'''maximization_step函数\n",
    "\n",
    "输入参数：X: 数据集\n",
    "        gammas：$x_{n}$分属K个标签的概率矩阵\n",
    "        pis: p(z = 1)的概率\n",
    "        mus: 高斯分布的均值\n",
    "        sigmas: 高斯分布的协方差\n",
    "'''\n",
    "\n",
    "def maximization_step(X, gammas, pis, mus, sigmas):\n",
    "    \n",
    "    # 更新pis\n",
    "    pis = gammas.sum(axis = 1)  / gammas.shape[1]\n",
    "\n",
    "    \n",
    "    # 更新mus\n",
    "    mus = np.multiply(1.0/gammas.sum(axis = 1).reshape(-1, 1), np.dot(gammas, X))\n",
    "    \n",
    "    \n",
    "    # 更新sigmas\n",
    "    \n",
    "    for k in range(len(sigmas)):\n",
    "      \n",
    "            \n",
    "        centered_X = X - mus[k]\n",
    "            \n",
    "        sigmas[k] = np.dot(np.multiply(gammas[k], centered_X.T), centered_X) / gammas[k].sum()\n",
    "        "
   ]
  },
  {
   "cell_type": "markdown",
   "metadata": {},
   "source": [
    "更新最大似然函数的下界`lower_bound`。"
   ]
  },
  {
   "cell_type": "code",
   "execution_count": 35,
   "metadata": {
    "collapsed": true
   },
   "outputs": [],
   "source": [
    "'''cal_lower_bound函数\n",
    "\n",
    "输入参数：X: 数据集\n",
    "        gammas：$x_{n}$分属K个标签的概率矩阵\n",
    "        pis: p(z = 1)的概率\n",
    "        mus: 训练得到的高斯分布的均值\n",
    "        sigmas: 训练得到的高斯分布的协方差\n",
    "\n",
    "返回参数：对数最大似然函数的下界\n",
    "\n",
    "'''\n",
    "\n",
    "def cal_lower_bound(X, gammas, pis, mus, sigmas):\n",
    "    \n",
    "    from scipy.stats import multivariate_normal\n",
    "\n",
    "    lower_bound = 0\n",
    "        \n",
    "    for gamma, pi, mu, sigma in zip(gammas, pis, mus, sigmas):\n",
    "    \n",
    "        lower_bound  += np.multiply(gamma, np.log(pi*multivariate_normal(mu, sigma).pdf(X)))\n",
    "\n",
    "    return lower_bound.sum()"
   ]
  },
  {
   "cell_type": "markdown",
   "metadata": {},
   "source": [
    "接下来，我们实现`train_GMM`函数，计算各个高斯分布的统计特征。"
   ]
  },
  {
   "cell_type": "code",
   "execution_count": 36,
   "metadata": {
    "collapsed": true
   },
   "outputs": [],
   "source": [
    "'''train_GMM函数\n",
    "\n",
    "输入参数：X: 数据集\n",
    "        k: 高斯分布的个数\n",
    "        max_iter: 迭代的最高次数\n",
    "        alpha: 最大似然函数下界收敛的阈值\n",
    "        \n",
    "        \n",
    "返回参数：(mus, sigmas)以元组形式返回参数\n",
    "        mus: 高斯分布的均值 K times d\n",
    "        sigmas：高斯分布的协方差 d times d\n",
    "        \n",
    "'''\n",
    "def train_GMM(X, K, max_iter, alpha):\n",
    "\n",
    "    indicator = 0\n",
    "    lower_bound = 0\n",
    "   \n",
    "    # 初始化\n",
    "    N, d = X.shape\n",
    "    d = d - 1\n",
    "\n",
    "    # 初始化pi，一维数组，即 K times 1的向量\n",
    "    pis = np.random.random(K)\n",
    "    pis /= pis.sum()\n",
    "\n",
    "    # 初始化mu，二维数组，即 K times d的矩阵\n",
    "    #mus = np.random.random((K, d))\n",
    "    mus = np.array([X[X['label'] == num].mean()[:-1] for num in range(K)])\n",
    "\n",
    "    # 初始化sigmas  三维数组， 即长度为K，元素为 d times d 矩阵的数组\n",
    "    sigmas = np.array([np.eye(d)] * K)\n",
    "    \n",
    "    X_hat = X.iloc[:,:-1].values\n",
    "    while indicator <= max_iter:\n",
    "    \n",
    "        lower_bound_old = lower_bound\n",
    "    \n",
    "        # E-step\n",
    "        gammas = expectation_step(X_hat, pis, mus, sigmas)\n",
    "        \n",
    "        # M-step\n",
    "        maximization_step(X_hat, gammas, pis, mus, sigmas)\n",
    "        \n",
    "        # Update 下界\n",
    "        lower_bound = cal_lower_bound(X_hat, gammas, pis, mus, sigmas)\n",
    "    \n",
    "        # 检查终止条件\n",
    "        if abs(lower_bound - lower_bound_old) < alpha:\n",
    "            print 'reach stopping criterion!'\n",
    "            break\n",
    "    \n",
    "        # 更新迭代次数\n",
    "        indicator += 1\n",
    "    return (mus, sigmas)"
   ]
  },
  {
   "cell_type": "markdown",
   "metadata": {},
   "source": [
    "计算高斯分布的参数之后，我们需要判定样本来自于各个分布的概率大小。也就是说将样本代入分布的密度函数，计算其密度，取最大值所在的分布作为该样本的总体分布，并将样本归属于样本所在的类。"
   ]
  },
  {
   "cell_type": "code",
   "execution_count": 37,
   "metadata": {
    "collapsed": true
   },
   "outputs": [],
   "source": [
    "'''predict函数\n",
    "\n",
    "输入参数： X：数据集\n",
    "        mus: 各个高斯分布的均值  K time d\n",
    "        sigmas: 各个高斯分布的协方差   K times 1 元素为d times d 矩阵\n",
    "\n",
    "输出参数：数据集的各个数据记录所对应的标签(如0,1,2)\n",
    "\n",
    "'''\n",
    "\n",
    "def predict(X, mus, sigmas):\n",
    "    \n",
    "    from scipy.stats import multivariate_normal\n",
    "\n",
    "    labels = np.zeros(X.shape[0])\n",
    "    \n",
    "    for index, item in enumerate(X.iloc[:,:-1].values):\n",
    "    \n",
    "        probs = [multivariate_normal(mu, sigma).pdf(item) for mu, sigma in zip(mus, sigmas)]\n",
    "    \n",
    "        labels[index] = probs.index(max(probs))\n",
    "        \n",
    "    return labels"
   ]
  },
  {
   "cell_type": "markdown",
   "metadata": {},
   "source": [
    "#### 算法验证\n",
    "\n",
    "我们人为生成300个分别来自3个不同高斯分布的数据样本，组成验证数据集。"
   ]
  },
  {
   "cell_type": "code",
   "execution_count": 38,
   "metadata": {
    "collapsed": true
   },
   "outputs": [],
   "source": [
    "# 生成来自高斯混合分布的数据\n",
    "# 数据集来自3个高斯分布，每个分布产生100个数据样本，数据集的维度为2\n",
    "#np.random.seed(5)\n",
    "\n",
    "mus = [[0, 4], [-2, 0], [4, 4]]\n",
    "\n",
    "sigs = [[[3, 0], [0, 0.5]], [[1, 0], [0, 2]], [[1, 0], [0,1]]]\n",
    "\n",
    "\n",
    "# 数据集X\n",
    "multi_data = [np.random.multivariate_normal(mu, sig, 100) for mu, sig in zip(mus, sigs)]\n",
    "\n",
    "data = np.vstack(multi_data)\n",
    "\n",
    "## 数据集的类别标签为0，1，2\n",
    "labels = [[value]*100 for value in range(3)]\n",
    "## 把嵌套数组labels拉平\n",
    "multi_labels = [y for x in labels for y in x]\n",
    "\n",
    "\n",
    "# 数据集标签合并\n",
    "final_data = []\n",
    "\n",
    "for v1, v2 in zip(data, multi_labels):\n",
    "    list_v1 = v1.tolist()\n",
    "    list_v1.append(v2)\n",
    "    final_data.append(list_v1) \n",
    "\n",
    "##np.random.shuffle(final_data)"
   ]
  },
  {
   "cell_type": "markdown",
   "metadata": {},
   "source": [
    "把数据集转化为`Pandas`中的`DataFrame`格式。"
   ]
  },
  {
   "cell_type": "code",
   "execution_count": 39,
   "metadata": {},
   "outputs": [
    {
     "data": {
      "text/html": [
       "<div>\n",
       "<style>\n",
       "    .dataframe thead tr:only-child th {\n",
       "        text-align: right;\n",
       "    }\n",
       "\n",
       "    .dataframe thead th {\n",
       "        text-align: left;\n",
       "    }\n",
       "\n",
       "    .dataframe tbody tr th {\n",
       "        vertical-align: top;\n",
       "    }\n",
       "</style>\n",
       "<table border=\"1\" class=\"dataframe\">\n",
       "  <thead>\n",
       "    <tr style=\"text-align: right;\">\n",
       "      <th></th>\n",
       "      <th>x1</th>\n",
       "      <th>x2</th>\n",
       "      <th>label</th>\n",
       "    </tr>\n",
       "  </thead>\n",
       "  <tbody>\n",
       "    <tr>\n",
       "      <th>0</th>\n",
       "      <td>-3.863865</td>\n",
       "      <td>5.011869</td>\n",
       "      <td>0</td>\n",
       "    </tr>\n",
       "    <tr>\n",
       "      <th>1</th>\n",
       "      <td>1.742150</td>\n",
       "      <td>3.624853</td>\n",
       "      <td>0</td>\n",
       "    </tr>\n",
       "    <tr>\n",
       "      <th>2</th>\n",
       "      <td>0.435850</td>\n",
       "      <td>5.268131</td>\n",
       "      <td>0</td>\n",
       "    </tr>\n",
       "    <tr>\n",
       "      <th>3</th>\n",
       "      <td>3.613564</td>\n",
       "      <td>3.530604</td>\n",
       "      <td>0</td>\n",
       "    </tr>\n",
       "    <tr>\n",
       "      <th>4</th>\n",
       "      <td>0.916746</td>\n",
       "      <td>4.839165</td>\n",
       "      <td>0</td>\n",
       "    </tr>\n",
       "  </tbody>\n",
       "</table>\n",
       "</div>"
      ],
      "text/plain": [
       "         x1        x2  label\n",
       "0 -3.863865  5.011869      0\n",
       "1  1.742150  3.624853      0\n",
       "2  0.435850  5.268131      0\n",
       "3  3.613564  3.530604      0\n",
       "4  0.916746  4.839165      0"
      ]
     },
     "execution_count": 39,
     "metadata": {},
     "output_type": "execute_result"
    }
   ],
   "source": [
    "final_data = pd.DataFrame(final_data, columns = ['x1', 'x2', 'label'])\n",
    "final_data.head()"
   ]
  },
  {
   "cell_type": "markdown",
   "metadata": {},
   "source": [
    "测试数据集准备好之后，我们把`final_data`代入函数中进行计算。"
   ]
  },
  {
   "cell_type": "code",
   "execution_count": 40,
   "metadata": {},
   "outputs": [
    {
     "name": "stdout",
     "output_type": "stream",
     "text": [
      "reach stopping criterion!\n"
     ]
    }
   ],
   "source": [
    "mus, sigmas = train_GMM(final_data, 3, 1000, 1e-5)"
   ]
  },
  {
   "cell_type": "code",
   "execution_count": 41,
   "metadata": {},
   "outputs": [
    {
     "data": {
      "text/plain": [
       "array([[ 0.091542  ,  3.98930488],\n",
       "       [-2.07339681, -0.05747473],\n",
       "       [ 3.90201609,  4.13091042]])"
      ]
     },
     "execution_count": 41,
     "metadata": {},
     "output_type": "execute_result"
    }
   ],
   "source": [
    "# 根据训练集生成的均值\n",
    "mus"
   ]
  },
  {
   "cell_type": "code",
   "execution_count": 42,
   "metadata": {},
   "outputs": [
    {
     "data": {
      "text/plain": [
       "array([[[ 3.05429524, -0.14215967],\n",
       "        [-0.14215967,  0.52348837]],\n",
       "\n",
       "       [[ 1.11471389,  0.08816557],\n",
       "        [ 0.08816557,  1.88432252]],\n",
       "\n",
       "       [[ 1.20274147, -0.02181217],\n",
       "        [-0.02181217,  1.09511199]]])"
      ]
     },
     "execution_count": 42,
     "metadata": {},
     "output_type": "execute_result"
    }
   ],
   "source": [
    "# 根据训练集生成的协方差\n",
    "sigmas"
   ]
  },
  {
   "cell_type": "code",
   "execution_count": 43,
   "metadata": {},
   "outputs": [
    {
     "name": "stdout",
     "output_type": "stream",
     "text": [
      "[ 0.  0.  0.  2.  0.  0.  0.  0.  0.  0.  0.  0.  0.  0.  0.  0.  2.  0.\n",
      "  0.  0.  0.  0.  0.  0.  0.  0.  0.  0.  2.  0.  0.  0.  0.  0.  0.  0.\n",
      "  0.  0.  0.  0.  0.  0.  0.  0.  0.  0.  0.  2.  0.  0.  0.  0.  0.  0.\n",
      "  0.  0.  0.  0.  0.  0.  2.  0.  0.  0.  0.  0.  2.  2.  0.  0.  0.  0.\n",
      "  0.  0.  0.  0.  2.  0.  0.  0.  0.  0.  0.  0.  0.  2.  0.  0.  0.  0.\n",
      "  2.  0.  0.  0.  0.  0.  0.  0.  0.  0.  1.  1.  1.  1.  1.  1.  1.  1.\n",
      "  1.  1.  1.  1.  1.  1.  1.  1.  0.  1.  1.  1.  1.  1.  1.  1.  1.  1.\n",
      "  1.  1.  1.  1.  1.  1.  1.  1.  1.  1.  1.  1.  1.  1.  1.  1.  1.  1.\n",
      "  1.  1.  1.  1.  1.  1.  1.  1.  1.  1.  1.  1.  1.  1.  1.  1.  1.  1.\n",
      "  1.  1.  1.  0.  1.  1.  1.  1.  1.  1.  1.  1.  1.  1.  1.  1.  1.  1.\n",
      "  1.  1.  1.  1.  1.  1.  1.  1.  1.  1.  1.  1.  1.  1.  1.  1.  1.  1.\n",
      "  1.  1.  2.  2.  0.  2.  2.  2.  2.  2.  2.  2.  2.  2.  2.  2.  2.  2.\n",
      "  2.  2.  2.  2.  2.  2.  2.  2.  2.  2.  2.  2.  2.  2.  2.  2.  2.  2.\n",
      "  2.  2.  2.  2.  2.  2.  2.  2.  2.  2.  2.  2.  2.  2.  2.  2.  2.  2.\n",
      "  2.  2.  2.  2.  2.  2.  2.  2.  2.  2.  2.  2.  2.  2.  2.  2.  2.  2.\n",
      "  2.  2.  2.  2.  2.  2.  2.  2.  2.  2.  2.  2.  2.  2.  2.  2.  2.  2.\n",
      "  2.  2.  2.  2.  2.  2.  2.  2.  2.  2.  2.  2.]\n"
     ]
    }
   ],
   "source": [
    "# 在训练集上预测的标签\n",
    "\n",
    "label_pred = predict(final_data, mus, sigmas)\n",
    "print label_pred"
   ]
  },
  {
   "cell_type": "code",
   "execution_count": 44,
   "metadata": {},
   "outputs": [
    {
     "name": "stdout",
     "output_type": "stream",
     "text": [
      "Accuracy: 0.9567\n",
      "             precision    recall  f1-score   support\n",
      "\n",
      "          0       0.97      0.90      0.93       100\n",
      "          1       1.00      0.98      0.99       100\n",
      "          2       0.91      0.99      0.95       100\n",
      "\n",
      "avg / total       0.96      0.96      0.96       300\n",
      "\n"
     ]
    },
    {
     "data": {
      "image/png": "[encoded data removed]",
      "text/plain": [
       "<matplotlib.figure.Figure at 0x111cc8810>"
      ]
     },
     "metadata": {},
     "output_type": "display_data"
    }
   ],
   "source": [
    "## 模型评价\n",
    "evaluate(label_pred, final_data['label'].values)"
   ]
  },
  {
   "cell_type": "markdown",
   "metadata": {},
   "source": [
    "#### 使用`sklearn`的`Gaussian`函数"
   ]
  },
  {
   "cell_type": "code",
   "execution_count": 45,
   "metadata": {
    "collapsed": true
   },
   "outputs": [],
   "source": [
    "from sklearn.mixture import GaussianMixture"
   ]
  },
  {
   "cell_type": "code",
   "execution_count": 46,
   "metadata": {},
   "outputs": [
    {
     "name": "stdout",
     "output_type": "stream",
     "text": [
      "Accuracy: 0.9567\n",
      "             precision    recall  f1-score   support\n",
      "\n",
      "          0       0.95      0.92      0.93       100\n",
      "          1       1.00      0.97      0.98       100\n",
      "          2       0.92      0.98      0.95       100\n",
      "\n",
      "avg / total       0.96      0.96      0.96       300\n",
      "\n"
     ]
    },
    {
     "data": {
      "image/png": "[encoded data removed]",
      "text/plain": [
       "<matplotlib.figure.Figure at 0x11814d5d0>"
      ]
     },
     "metadata": {},
     "output_type": "display_data"
    }
   ],
   "source": [
    "gmm_model = GaussianMixture(n_components = 3, covariance_type = 'diag', init_params='random', max_iter=200)\n",
    "\n",
    "gmm_model.means_init = np.array([final_data[final_data['label'] == num].mean(axis = 0)[:-1] for num in range(3)])\n",
    "\n",
    "gmm_model.fit(final_data.iloc[:,:-1])\n",
    "\n",
    "y_pred = gmm_model.predict(final_data.iloc[:,:-1])\n",
    "\n",
    "\n",
    "\n",
    "diff = y_pred  - final_data['label'].values\n",
    "\n",
    "evaluate(y_pred, final_data['label'].values)"
   ]
  },
  {
   "cell_type": "markdown",
   "metadata": {},
   "source": [
    "接下来，我们查看训练得到的均值和协方差矩阵。"
   ]
  },
  {
   "cell_type": "code",
   "execution_count": 47,
   "metadata": {},
   "outputs": [
    {
     "data": {
      "text/plain": [
       "array([[ 0.14315648,  3.99572962],\n",
       "       [-2.08035331, -0.11343775],\n",
       "       [ 3.8482867 ,  4.0898108 ]])"
      ]
     },
     "execution_count": 47,
     "metadata": {},
     "output_type": "execute_result"
    }
   ],
   "source": [
    "gmm_model.means_"
   ]
  },
  {
   "cell_type": "code",
   "execution_count": 48,
   "metadata": {},
   "outputs": [
    {
     "data": {
      "text/plain": [
       "array([[ 4.01553565,  0.61132795],\n",
       "       [ 1.0545162 ,  1.44822495],\n",
       "       [ 1.01247237,  1.14685908]])"
      ]
     },
     "execution_count": 48,
     "metadata": {},
     "output_type": "execute_result"
    }
   ],
   "source": [
    "gmm_model.covariances_"
   ]
  },
  {
   "cell_type": "markdown",
   "metadata": {},
   "source": [
    "#### 真实数据集"
   ]
  },
  {
   "cell_type": "markdown",
   "metadata": {},
   "source": [
    "使用`sklearn`中的`GaussianMixture`模型，查看数据集是否适合使用高斯混合模型。"
   ]
  },
  {
   "cell_type": "code",
   "execution_count": 66,
   "metadata": {},
   "outputs": [
    {
     "name": "stdout",
     "output_type": "stream",
     "text": [
      "Accuracy: 0.8762\n",
      "             precision    recall  f1-score   support\n",
      "\n",
      "          0       0.84      0.77      0.81        70\n",
      "          1       0.97      0.86      0.91        70\n",
      "          2       0.83      1.00      0.91        70\n",
      "\n",
      "avg / total       0.88      0.88      0.87       210\n",
      "\n"
     ]
    },
    {
     "data": {
      "image/png": "[encoded data removed]",
      "text/plain": [
       "<matplotlib.figure.Figure at 0x1186dc590>"
      ]
     },
     "metadata": {},
     "output_type": "display_data"
    }
   ],
   "source": [
    "gmm_model = GaussianMixture(n_components = 3, covariance_type = 'diag', init_params='random', max_iter=200)\n",
    "\n",
    "gmm_model.means_init = np.array([data[data['label'] == num].mean(axis = 0)[:-1] for num in range(3)])\n",
    "\n",
    "gmm_model.fit(data.iloc[:,:-1])\n",
    "\n",
    "y_pred = gmm_model.predict(data.iloc[:,:-1])\n",
    "\n",
    "\n",
    "diff = y_pred  - data['label'].values\n",
    "\n",
    "evaluate(y_pred, data['label'].values)"
   ]
  },
  {
   "cell_type": "markdown",
   "metadata": {},
   "source": [
    "准确率接近90%，数据集可以使用高斯混合模型来进行分类，也就是认为数据集的各个部分服从高斯分布。接下来，我们使用自定义的模型，去拟合数据集。\n"
   ]
  },
  {
   "cell_type": "markdown",
   "metadata": {},
   "source": [
    "首先，使用数据集训练模型。我们将模型中高斯分布的个数设为`3`，迭代次数设为`2000`，终止条件的阈值设为`1e-5`。"
   ]
  },
  {
   "cell_type": "code",
   "execution_count": 71,
   "metadata": {},
   "outputs": [],
   "source": [
    "mus, sigmas = train_GMM(data, 3, 2000, 1e-5)"
   ]
  },
  {
   "cell_type": "markdown",
   "metadata": {},
   "source": [
    "`train_GMM()`函数返回各个高斯分布component的参数值。"
   ]
  },
  {
   "cell_type": "code",
   "execution_count": 74,
   "metadata": {},
   "outputs": [
    {
     "data": {
      "text/plain": [
       "array([[ 14.33442857,  14.29428571,   0.88007   ,   5.50805714,\n",
       "          3.24462857,   2.66740286,   5.08721429],\n",
       "       [ 18.33428571,  16.13571429,   0.88351714,   6.14802857,\n",
       "          3.67741429,   3.6448    ,   6.0206    ],\n",
       "       [ 11.87385714,  13.24785714,   0.84940857,   5.22951429,\n",
       "          2.85377143,   4.7884    ,   5.1164    ]])"
      ]
     },
     "execution_count": 74,
     "metadata": {},
     "output_type": "execute_result"
    }
   ],
   "source": [
    "## 均值\n",
    "mus"
   ]
  },
  {
   "cell_type": "code",
   "execution_count": 75,
   "metadata": {},
   "outputs": [
    {
     "data": {
      "text/plain": [
       "array([[[  9.61042610e-01,   4.49091020e-01,   3.64855457e-03,\n",
       "           1.56014211e-01,   1.17141015e-01,  -1.27065732e-02,\n",
       "           1.88899096e-01],\n",
       "        [  4.49091020e-01,   2.25678067e-01,  -2.32360248e-04,\n",
       "           8.79441594e-02,   4.61847713e-02,  -1.09081099e-02,\n",
       "           1.05092971e-01],\n",
       "        [  3.64855457e-03,  -2.32360248e-04,   2.53796176e-04,\n",
       "          -1.24553446e-03,   1.48731511e-03,   1.09097179e-03,\n",
       "          -1.30512355e-03],\n",
       "        [  1.56014211e-01,   8.79441594e-02,  -1.24553446e-03,\n",
       "           4.29723198e-02,   9.93728431e-03,   3.18456598e-03,\n",
       "           4.96169562e-02],\n",
       "        [  1.17141015e-01,   4.61847713e-02,   1.48731511e-03,\n",
       "           9.93728431e-03,   2.07285674e-02,   1.02206141e-03,\n",
       "           1.19468383e-02],\n",
       "        [ -1.27065732e-02,  -1.09081099e-02,   1.09097179e-03,\n",
       "           3.18456598e-03,   1.02206141e-03,   1.49197054e+00,\n",
       "           4.91593961e-02],\n",
       "        [  1.88899096e-01,   1.05092971e-01,  -1.30512355e-03,\n",
       "           4.96169562e-02,   1.19468383e-02,   4.91593961e-02,\n",
       "           8.22456169e-02]],\n",
       "\n",
       "       [[  1.57851092e+00,   6.62340210e-01,   3.56424248e-03,\n",
       "           2.56042627e-01,   1.71127913e-01,   7.63942476e-04,\n",
       "           2.28768249e-01],\n",
       "        [  6.62340210e-01,   2.95883847e-01,  -4.75500505e-04,\n",
       "           1.23587613e-01,   6.15031906e-02,   1.24584162e-02,\n",
       "           1.12445553e-01],\n",
       "        [  3.56424248e-03,  -4.75500505e-04,   2.26310981e-04,\n",
       "          -1.18668938e-03,   1.51843470e-03,  -1.93389914e-03,\n",
       "          -1.28036605e-03],\n",
       "        [  2.56042627e-01,   1.23587613e-01,  -1.18668938e-03,\n",
       "           6.34684521e-02,   1.76146078e-02,  -8.11197909e-03,\n",
       "           5.91468482e-02],\n",
       "        [  1.71127913e-01,   6.15031906e-02,   1.51843470e-03,\n",
       "           1.76146078e-02,   2.61011026e-02,   6.85939592e-03,\n",
       "           1.34256743e-02],\n",
       "        [  7.63942476e-04,   1.24584162e-02,  -1.93389914e-03,\n",
       "          -8.11197909e-03,   6.85939592e-03,   1.41923766e+00,\n",
       "          -1.50619323e-02],\n",
       "        [  2.28768249e-01,   1.12445553e-01,  -1.28036605e-03,\n",
       "           5.91468482e-02,   1.34256743e-02,  -1.50619323e-02,\n",
       "           6.38161865e-02]],\n",
       "\n",
       "       [[  4.85828865e-01,   2.15529230e-01,   6.98968287e-03,\n",
       "           5.38062306e-02,   8.22069311e-02,   4.78245130e-02,\n",
       "           3.23371835e-02],\n",
       "        [  2.15529230e-01,   1.16762669e-01,   3.92567483e-04,\n",
       "           3.96924548e-02,   2.63491802e-02,   4.63964515e-02,\n",
       "           3.34474027e-02],\n",
       "        [  6.98968287e-03,   3.92567483e-04,   4.48495788e-04,\n",
       "          -1.26743868e-03,   2.46968621e-03,  -3.04704732e-03,\n",
       "          -2.00181745e-03],\n",
       "        [  5.38062306e-02,   3.96924548e-02,  -1.26743868e-03,\n",
       "           2.01866081e-02,   1.52143114e-03,   3.86411654e-02,\n",
       "           2.06172222e-02],\n",
       "        [  8.22069311e-02,   2.63491802e-02,   2.46968621e-03,\n",
       "           1.52143114e-03,   1.94984539e-02,   1.04909818e-02,\n",
       "          -3.64911722e-03],\n",
       "        [  4.78245130e-02,   4.63964515e-02,  -3.04704732e-03,\n",
       "           3.86411654e-02,   1.04909818e-02,   1.94417811e+00,\n",
       "           5.69210636e-02],\n",
       "        [  3.23371835e-02,   3.34474027e-02,  -2.00181745e-03,\n",
       "           2.06172222e-02,  -3.64911722e-03,   5.69210636e-02,\n",
       "           3.19963703e-02]]])"
      ]
     },
     "execution_count": 75,
     "metadata": {},
     "output_type": "execute_result"
    }
   ],
   "source": [
    "## 协方差矩阵\n",
    "sigmas"
   ]
  },
  {
   "cell_type": "markdown",
   "metadata": {},
   "source": [
    "预测数据集的标签。"
   ]
  },
  {
   "cell_type": "code",
   "execution_count": 76,
   "metadata": {},
   "outputs": [
    {
     "data": {
      "text/plain": [
       "array([ 0.,  0.,  0.,  0.,  0.,  0.,  0.,  0.,  1.,  0.,  0.,  0.,  0.,\n",
       "        0.,  0.,  0.,  0.,  0.,  0.,  2.,  0.,  0.,  0.,  2.,  0.,  0.,\n",
       "        0.,  0.,  0.,  0.,  0.,  0.,  0.,  0.,  0.,  0.,  0.,  1.,  0.,\n",
       "        0.,  0.,  0.,  0.,  0.,  0.,  0.,  0.,  0.,  0.,  0.,  0.,  0.,\n",
       "        0.,  0.,  0.,  0.,  0.,  0.,  0.,  0.,  2.,  2.,  2.,  0.,  0.,\n",
       "        0.,  0.,  0.,  0.,  2.,  1.,  1.,  1.,  1.,  1.,  1.,  1.,  1.,\n",
       "        1.,  1.,  1.,  1.,  1.,  1.,  1.,  1.,  1.,  1.,  1.,  1.,  1.,\n",
       "        1.,  1.,  1.,  1.,  1.,  1.,  1.,  1.,  1.,  1.,  1.,  1.,  1.,\n",
       "        1.,  1.,  1.,  1.,  1.,  1.,  1.,  1.,  1.,  1.,  1.,  1.,  1.,\n",
       "        1.,  1.,  1.,  1.,  1.,  1.,  1.,  1.,  1.,  1.,  1.,  1.,  1.,\n",
       "        1.,  1.,  0.,  1.,  0.,  0.,  1.,  0.,  0.,  1.,  2.,  2.,  2.,\n",
       "        2.,  2.,  2.,  2.,  2.,  2.,  2.,  2.,  2.,  2.,  2.,  2.,  2.,\n",
       "        2.,  2.,  2.,  2.,  2.,  2.,  2.,  2.,  2.,  2.,  2.,  2.,  2.,\n",
       "        2.,  2.,  2.,  2.,  2.,  2.,  2.,  2.,  2.,  2.,  2.,  2.,  2.,\n",
       "        2.,  2.,  2.,  2.,  2.,  2.,  2.,  2.,  2.,  2.,  2.,  2.,  2.,\n",
       "        2.,  2.,  0.,  2.,  2.,  2.,  0.,  2.,  2.,  2.,  2.,  2.,  2.,\n",
       "        2.,  2.])"
      ]
     },
     "execution_count": 76,
     "metadata": {},
     "output_type": "execute_result"
    }
   ],
   "source": [
    "label_pred = predict(data, mus, sigmas)\n",
    "label_pred"
   ]
  },
  {
   "cell_type": "code",
   "execution_count": 73,
   "metadata": {},
   "outputs": [
    {
     "name": "stdout",
     "output_type": "stream",
     "text": [
      "Accuracy: 0.9286\n",
      "             precision    recall  f1-score   support\n",
      "\n",
      "          0       0.90      0.89      0.89        70\n",
      "          1       0.97      0.93      0.95        70\n",
      "          2       0.92      0.97      0.94        70\n",
      "\n",
      "avg / total       0.93      0.93      0.93       210\n",
      "\n"
     ]
    },
    {
     "data": {
      "image/png": "[encoded data removed]",
      "text/plain": [
       "<matplotlib.figure.Figure at 0x118875c50>"
      ]
     },
     "metadata": {},
     "output_type": "display_data"
    }
   ],
   "source": [
    "evaluate(label_pred, data['label'].values)"
   ]
  }
 ],
 "metadata": {
  "kernelspec": {
   "display_name": "Python 2",
   "language": "python",
   "name": "python2"
  },
  "language_info": {
   "codemirror_mode": {
    "name": "ipython",
    "version": 2
   },
   "file_extension": ".py",
   "mimetype": "text/x-python",
   "name": "python",
   "nbconvert_exporter": "python",
   "pygments_lexer": "ipython2",
   "version": "2.7.13"
  }
 },
 "nbformat": 4,
 "nbformat_minor": 2
}
